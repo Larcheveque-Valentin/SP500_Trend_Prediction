{
 "cells": [
  {
   "cell_type": "code",
   "execution_count": 1,
   "metadata": {},
   "outputs": [],
   "source": [
    "\n",
    "import yfinance as yf\n",
    "import pandas as pd"
   ]
  },
  {
   "cell_type": "code",
   "execution_count": 1,
   "metadata": {},
   "outputs": [
    {
     "data": {
      "text/plain": [
       "488"
      ]
     },
     "execution_count": 1,
     "metadata": {},
     "output_type": "execute_result"
    }
   ],
   "source": [
    "sp500_companies = [\n",
    "    'AAPL', 'ABT', 'ACN', 'ADBE', 'ADI', 'ADP', 'ADSK', 'AEE', 'AEP', 'AES', 'AFL', 'AIG', 'AIZ', 'AJG', 'AKAM', 'ALB', 'ALGN', 'ALK',\n",
    "    'ALL', 'ALLE', 'AMAT', 'AMCR', 'AMD', 'AME', 'AMGN', 'AMP', 'AMT', 'AMZN', 'ANET', 'ANSS', 'ANTM', 'AON', 'AOS', 'APA', 'APD',\n",
    "    'APH', 'APTV', 'ARE', 'ATO', 'ATVI', 'AVB', 'AVGO', 'AVY', 'AWK', 'AXP', 'AZO', 'BA', 'BAC', 'BAX', 'BBY', 'BDX', 'BEN', 'BIIB',\n",
    "    'BIO', 'BK', 'BKNG', 'BKR', 'BLK', 'BLL', 'BMY', 'BR', 'BRK.B', 'BSX', 'BWA', 'BXP', 'C', 'CAG', 'CAH', 'CARR', 'CAT', 'CB',\n",
    "    'CBOE', 'CBRE', 'CCI', 'CCL', 'CDNS', 'CDW', 'CE', 'CERN', 'CF', 'CFG', 'CHD', 'CHRW', 'CHTR', 'CI', 'CINF', 'CL', 'CLX', 'CMA',\n",
    "    'CMCSA', 'CME', 'CMG', 'CMI', 'CMS', 'CNC', 'CNP', 'COF', 'COG', 'COO', 'COP', 'COST', 'CPB', 'CPRT', 'CRM', 'CSCO', 'CSX', 'CTAS',\n",
    "    'CTLT', 'CTSH', 'CTVA', 'CTXS', 'CVS', 'CVX', 'CZR', 'D', 'DAL', 'DD', 'DE', 'DFS', 'DG', 'DGX', 'DHI', 'DHR', 'DIS', 'DISCA',\n",
    "    'DISCK', 'DISH', 'DLR', 'DLTR', 'DOV', 'DRE', 'DRI', 'DTE', 'DUK', 'DVA', 'DVN', 'DXC', 'DXCM', 'EA', 'EBAY', 'ECL', 'ED', 'EFX',\n",
    "    'EIX', 'EL', 'EMN', 'EMR', 'ENPH', 'EOG', 'EQIX', 'EQR', 'ES', 'ESS', 'ETN', 'ETR', 'EVRG', 'EW', 'EXC', 'EXPD', 'EXPE', 'EXR',\n",
    "    'F', 'FANG', 'FAST', 'FB', 'FBHS', 'FCX', 'FDX', 'FE', 'FFIV', 'FIS', 'FISV', 'FITB', 'FLIR', 'FMC', 'FRT', 'FTNT', 'FTV', 'GD',\n",
    "    'GE', 'GILD', 'GIS', 'GL', 'GLW', 'GM', 'GNRC', 'GOOG', 'GOOGL', 'GPC', 'GPN', 'GPS', 'GRMN', 'GS', 'GWW', 'HAL', 'HAS', 'HBAN',\n",
    "    'HBI', 'HCA', 'HD', 'HES', 'HIG', 'HII', 'HLT', 'HOLX', 'HON', 'HPE', 'HPQ', 'HRL', 'HSIC', 'HST', 'HSY', 'HUM', 'HWM', 'IBM',\n",
    "    'ICE', 'IDXX', 'IEX', 'IFF', 'ILMN', 'INCY', 'INFO', 'INTC', 'INTU', 'IP', 'IPG', 'IPGP', 'IQV', 'IR', 'IRM', 'ISRG', 'IT', 'ITW',\n",
    "    'IVZ', 'J', 'JBHT', 'JCI', 'JKHY', 'JNJ', 'JNPR', 'JPM', 'K', 'KEY', 'KEYS', 'KHC', 'KIM', 'KLAC', 'KMB', 'KMI', 'KMX', 'KO',\n",
    "    'KR', 'KSU', 'L', 'LB', 'LDOS', 'LEG', 'LEN', 'LH', 'LHX', 'LIN', 'LKQ', 'LLY', 'LMT', 'LNC', 'LNT', 'LOW', 'LRCX', 'LUMN',\n",
    "    'LUV', 'LVS', 'LW', 'LYB', 'LYV', 'MA', 'MAA', 'MAR', 'MAS', 'MCD', 'MCHP', 'MCK', 'MCO', 'MDLZ', 'MDT', 'MET', 'MGM', 'MHK',\n",
    "    'MKC', 'MKTX', 'MLM', 'MMC', 'MMM', 'MNST', 'MO', 'MOS', 'MPC', 'MPWR', 'MRK', 'MRO', 'MSCI', 'MSFT', 'MSI', 'MTB', 'MTD', 'MU',\n",
    "    'MXIM', 'NCLH', 'NDAQ', 'NEE', 'NEM', 'NFLX', 'NKE', 'NLOK', 'NLSN', 'NOC', 'NOV', 'NRG', 'NSC', 'NTAP', 'NTRS', 'NUE', 'NVDA',\n",
    "    'NVR', 'NWL', 'NWS', 'NWSA', 'NXPI', 'O', 'ODFL', 'OKE', 'OMC', 'ORCL', 'ORLY', 'OTIS', 'OXY', 'PAYC', 'PAYX', 'PBCT', 'PCAR',\n",
    "    'PEAK', 'PEG', 'PENN', 'PEP', 'PFE', 'PFG', 'PG', 'PGR', 'PH', 'PHM', 'PKG', 'PKI', 'PLD', 'PM', 'PNC', 'PNR', 'PNW', 'PPG',\n",
    "    'PPL', 'PRGO', 'PRU', 'PSA', 'PSX', 'PTC', 'PVH', 'PWR', 'PXD', 'PYPL', 'QCOM', 'QRVO', 'RCL', 'RE', 'REG', 'REGN', 'RF', 'RHI',\n",
    "    'RJF', 'RL', 'RMD', 'ROK', 'ROL', 'ROP', 'ROST', 'RSG', 'RTX', 'SBAC', 'SBUX', 'SCHW', 'SEE', 'SHW', 'SIVB', 'SJM', 'SLB',\n",
    "    'SLG', 'SNA', 'SNPS', 'SO', 'SPG', 'SPGI', 'SRE', 'STE', 'STT', 'STX', 'STZ', 'SWK', 'SWKS', 'SYF', 'SYK', 'SYY', 'T', 'TAK',\n",
    "    'TAP', 'TDG', 'TDY', 'TEL', 'TER', 'TFC', 'TFX', 'TGT', 'TIF', 'TJX', 'TMO', 'TMUS', 'TPR', 'TRMB', 'TROW', 'TRV', 'TSCO',\n",
    "    'TSN', 'TT', 'TTWO', 'TWTR', 'TXN', 'TXT', 'TYL', 'U', 'UA', 'UAA', 'UAL', 'UDR', 'UHS', 'ULTA', 'UNH', 'UNM', 'UNP', 'UPS',\n",
    "    'URI', 'USB', 'V', 'VAR', 'VFC', 'VIAC', 'VLO', 'VMC', 'VNO', 'VRSK', 'VRSN', 'VRTX', 'VTR', 'VTRS', 'VZ', 'WAB', 'WAT', 'WBA',\n",
    "    'WDC', 'WEC', 'WELL', 'WFC', 'WHR', 'WLTW', 'WM', 'WMB', 'WMT', 'WRB', 'WRK', 'WST', 'WU', 'WY', 'WYNN', 'XEL', 'XLNX', 'XOM',\n",
    "    'XRAY', 'XYL', 'YUM', 'ZBH', 'ZBRA', 'ZION', 'ZTS'\n",
    "]\n",
    "\n",
    "# Vérifier qu'il y a bien 500 entreprises dans la liste\n",
    "len(sp500_companies)\n"
   ]
  },
  {
   "cell_type": "code",
   "execution_count": 4,
   "metadata": {},
   "outputs": [
    {
     "data": {
      "text/plain": [
       "5933"
      ]
     },
     "execution_count": 4,
     "metadata": {},
     "output_type": "execute_result"
    }
   ],
   "source": [
    "liste_combinee=['A', 'A', 'AA', 'AAC', 'AAL', 'AAMC', 'AAN', 'AAOI', 'AAP', 'AAPL', 'AAWW', 'AAXN', 'AB', 'ABB', 'ABBV', 'ABC', 'ABCB', 'ABCL', 'ABCM',\n",
    "    'ABG', 'ABM', 'ABMD', 'ABNB', 'ABR', 'ABST', 'ABTX', 'ABY', 'AC', 'ACA', 'ACAD', 'ACB', 'ACC', 'ACCD', 'ACCO', 'ACEL', 'ACER', 'ACGL',\n",
    "    'ACHC', 'ACHV', 'ACI', 'ACIW', 'ACLS', 'ACM', 'ACN', 'ACNB', 'ACOR', 'ACP', 'ACRE', 'ACRO', 'ACRQ', 'ACRS', 'ACRX', 'ACST', 'ACTG',\n",
    "    'ACU', 'ACV', 'AD', 'ADAP', 'ADBE', 'ADC', 'ADCT', 'ADES', 'ADET', 'ADFI', 'ADI', 'ADM', 'ADMA', 'ADMP', 'ADMS', 'ADN', 'ADNT', 'ADP',\n",
    "    'ADPT', 'ADRO', 'ADS', 'ADSK', 'ADT', 'ADTN', 'ADTX', 'ADV', 'ADVWW', 'ADX', 'ADXS', 'AE', 'AEAC', 'AEE', 'AEF', 'AEG', 'AEHR', 'AEI',\n",
    "    'AEIS', 'AEL', 'AEM', 'AENZ', 'AEO', 'AEP', 'AER', 'AERI', 'AES', 'AESE', 'AET', 'AEY', 'AEYE', 'AEZS', 'AF', 'AFA', 'AFB', 'AFBI',\n",
    "    'AFC', 'AFG', 'AFI', 'AFL', 'AFMD', 'AFRM', 'AFYA', 'AG', 'AGBA', 'AGC', 'AGCB', 'AGCO', 'AGD', 'AGE', 'AGEN', 'AGFS', 'AGFY', 'AGI',\n",
    "    'AGIO', 'AGLE', 'AGM', 'AGMH', 'AGN', 'AGNC', 'AGO', 'AGQ', 'AGR', 'AGRX', 'AGS', 'AGTC', 'AGTI', 'AGX', 'AGYS', 'AHAC', 'AHC', 'AHH',\n",
    "    'AHI', 'AHK', 'AHPI', 'AHT', 'AI', 'AIA', 'AIEQ', 'AIF', 'AIG', 'AIH', 'AIHS', 'AII', 'AIKI', 'AIKO', 'AIL', 'AIM', 'AIN', 'AINV',\n",
    "    'AIQ', 'AIR', 'AIRG', 'AIRI', 'AIRR', 'AIRT', 'AIT', 'AIV', 'AIZ', 'AJG', 'AJR', 'AJX', 'AKAM', 'AKBA', 'AKER', 'AKO.A', 'AKO.B',\n",
    "    'AKR', 'AKRO', 'AKTS', 'AKTX', 'AKU', 'AKUS', 'AKYA', 'AL', 'ALAC', 'ALB', 'ALBO', 'ALC', 'ALCO', 'ALDX', 'ALE', 'ALEC', 'ALEX',\n",
    "    'ALG', 'ALGN', 'ALGS', 'ALGT', 'ALHC', 'ALIM', 'ALIN.A', 'ALIN.B', 'ALIT', 'ALK', 'ALKS', 'ALL', 'ALLE', 'ALLK', 'ALLO', 'ALLT',\n",
    "    'ALLY', 'ALNA', 'ALNY', 'ALOT', 'ALP.Q', 'ALPN', 'ALRM', 'ALRN', 'ALRS', 'ALSK', 'ALSN', 'ALT', 'ALTA', 'ALTG', 'ALTU', 'ALUS', 'ALV',\n",
    "    'ALVR', 'ALX', 'ALXO', 'ALYA', 'AM', 'AMAL', 'AMAT', 'AMBA', 'AMBC', 'AMBO', 'AMC', 'AMCI', 'AMCR', 'AMCX', 'AMD', 'AME', 'AMED', 'AMEH',\n",
    "    'AMER', 'AMG', 'AMGN', 'AMH', 'AMHC', 'AMK', 'AMKR', 'AMN', 'AMNB', 'AMOT', 'AMOV', 'AMP', 'AMPE', 'AMPG', 'AMPH', 'AMPI', 'AMR',\n",
    "    'AMRB', 'AMRC', 'AMRK', 'AMRN', 'AMRS', 'AMRX', 'AMS', 'AMSC', 'AMSF', 'AMST', 'AMSWA', 'AMT', 'AMTB', 'AMTBB', 'AMTI', 'AMTX', 'AMWD',\n",
    "    'AMWL', 'AMX', 'AMYT', 'AMZN', 'AN', 'ANAB', 'ANAT', 'ANCN', 'ANDA', 'ANDAR', 'ANDAU', 'ANDE', 'ANDR', 'ANEB', 'ANET', 'ANF', 'ANGI',\n",
    "    'ANGO', 'ANIK', 'ANIP', 'ANIX', 'ANLY', 'ANNX', 'ANPC', 'ANSS', 'ANTE', 'ANTM', 'ANVS', 'ANVZ', 'AOD', 'AONE', 'AOS', 'AOSL', 'AOUT',\n",
    "    'AP', 'APA', 'APAM', 'APD', 'APDN', 'APEI', 'APEN', 'APG', 'APGB', 'APGC', 'APH', 'API', 'APLE', 'APLS', 'APLT', 'APM', 'APO', 'APOP',\n",
    "    'APPF', 'APPN', 'APPS', 'APRE', 'APRN', 'APSG', 'APTO', 'APTS', 'APTV', 'APTX', 'APVO', 'APWC', 'APXT', 'AQB', 'AQMS', 'AQN', 'AQST',\n",
    "    'AQUA', 'AR', 'ARAV', 'ARAY', 'ARB', 'ARBG', 'ARBK', 'ARBO', 'ARCB', 'ARCC', 'ARCE', 'ARCH', 'ARCO', 'ARCT', 'ARD', 'ARDC', 'ARDS',\n",
    "    'ARDX', 'ARE', 'AREC', 'ARGD', 'ARGO', 'ARGX', 'ARHG', 'ARI', 'ARKO', 'ARKR', 'ARKX', 'ARL', 'ARLO', 'ARLP', 'ARMK', 'ARNA', 'ARNC',\n",
    "    'AROC', 'AROW', 'ARPO', 'ARQT', 'ARR', 'ARRW', 'ARRY', 'ARTA', 'ARTL', 'ARTNA', 'ARTW', 'ARVL', 'ARVN', 'ARW', 'ARWR', 'ARX', 'ARYA',\n",
    "    'AS', 'ASAN', 'ASAX', 'ASB', 'ASC', 'ASGN', 'ASH', 'ASIX', 'ASLE', 'ASLN', 'ASM', 'ASMB', 'ASO', 'ASPC', 'ASPL', 'ASPN', 'ASPS', 'ASPU',\n",
    "    'ASR', 'ASRT', 'ASRV', 'ASTC', 'ASTE', 'ASTS', 'ASTV', 'ASXC', 'ATA', 'ATAC', 'ATAQ', 'ATAX', 'ATC', 'ATCO', 'ATCX', 'ATEC', 'ATEN',\n",
    "    'ATER', 'ATEX', 'ATGE', 'ATH', 'ATHA', 'ATHM', 'ATHX', 'ATI', 'ATIF', 'ATKR', 'ATLC', 'ATLO', 'ATNI', 'ATNX', 'ATO', 'ATOM', 'ATOS',\n",
    "    'ATR', 'ATRA', 'ATRC', 'ATRI', 'ATRO', 'ATRS', 'ATSG', 'ATTO', 'ATUS', 'ATV', 'ATVC', 'ATVI', 'ATXI', 'ATXT', 'AU', 'AUB', 'AUBN',\n",
    "    'AUCO', 'AUDC', 'AUG', 'AUMN', 'AUPH', 'AUSE', 'AUTO', 'AUUD', 'AUVI', 'AVA', 'AVAC', 'AVAL', 'AVAN', 'AVB', 'AVCO', 'AVCT', 'AVD',\n",
    "    'AVDL', 'AVEO', 'AVGO', 'AVGR', 'AVID', 'AVIR', 'AVK', 'AVLR', 'AVNS', 'AVNT', 'AVNW', 'AVO', 'AVRO', 'AVT', 'AVXL', 'AVY', 'AVYA',\n",
    "    'AWH', 'AWI', 'AWK', 'AWP', 'AWR', 'AWRE', 'AX', 'AXDX', 'AXGN', 'AXL', 'AXLA', 'AXNX', 'AXON', 'AXP', 'AXR', 'AXS', 'AXSM', 'AXTA',\n",
    "    'AXTI', 'AY', 'AYI', 'AYLA', 'AYRO', 'AYTU', 'AYX', 'AZEK', 'AZN', 'AZO', 'AZPN', 'AZRE', 'AZRX', 'AZUL', 'AZYO', 'AZZ', 'B', 'BA', 'BABA',\n",
    "    'BAC', 'BAH', 'BAIN', 'BAK', 'BALY', 'BAM', 'BANC', 'BAND', 'BANF', 'BANR', 'BANX', 'BAOS', 'BAP', 'BAR', 'BASI', 'BATL', 'BAX', 'BB',\n",
    "    'BBAI', 'BBBY', 'BBCP', 'BBD', 'BBDC', 'BBDO', 'BBIG', 'BBIQ', 'BBK', 'BBL', 'BBN', 'BBQ', 'BBSI', 'BBU', 'BBVA', 'BBW', 'BBY', 'BC',\n",
    "    'BCAB', 'BCAC', 'BCAT', 'BCBP', 'BCC', 'BCDA', 'BCEI', 'BCEL', 'BCH', 'BCML', 'BCO', 'BCOM', 'BCOR', 'BCOV', 'BCOW', 'BCPC', 'BCRX',\n",
    "    'BCS', 'BCSF', 'BCV', 'BCX', 'BCYC', 'BDC', 'BDN', 'BDR', 'BDSI', 'BDX', 'BE', 'BEAM', 'BECN', 'BEDU', 'BEEM', 'BEKE', 'BELFA', 'BELFB',\n",
    "    'BEN', 'BENE', 'BEP', 'BERY', 'BEST', 'BF.A', 'BF.B', 'BFC', 'BFI', 'BFLY', 'BFST', 'BG', 'BGCP', 'BGFV', 'BGH', 'BGI', 'BGIO', 'BGNE',\n",
    "    'BGRY', 'BGS', 'BGSF', 'BGT', 'BGX', 'BGY', 'BH', 'BHC', 'BHE', 'BHF', 'BHFA', 'BHK', 'BHLB', 'BHP', 'BHR', 'BHSE', 'BHT', 'BHV',\n",
    "    'BHVN', 'BIDU', 'BIG', 'BIGC', 'BIIB', 'BILI', 'BILL', 'BIMI', 'BIO', 'BIOL', 'BIOT', 'BIPC', 'BIT', 'BITA', 'BITE', 'BIVI', 'BJ',\n",
    "    'BJRI', 'BK', 'BKCC', 'BKD', 'BKE', 'BKEP', 'BKH', 'BKI', 'BKN', 'BKNG', 'BKR', 'BKTI', 'BKU', 'BKX', 'BKYI', 'BL', 'BLBD', 'BLCM',\n",
    "    'BLD', 'BLDP', 'BLDR', 'BLE', 'BLFS', 'BLI', 'BLIN', 'BLK', 'BLKB', 'BLL', 'BLMN', 'BLNK', 'BLPH', 'BLRX', 'BLSA', 'BLU', 'BLUE',\n",
    "    'BLW', 'BLX', 'BMA', 'BMBL', 'BME', 'BMEA', 'BMI', 'BMO', 'BMRA', 'BMRC', 'BMRN', 'BMTC', 'BMTX', 'BMY', 'BNED', 'BNFT', 'BNGO',\n",
    "    'BNL', 'BNR', 'BNS', 'BNTX', 'BNY', 'BOAC', 'BOCH', 'BOE', 'BOH', 'BOKF', 'BOLT', 'BOMH', 'BOMN', 'BON', 'BONE', 'BONT', 'BOOM',\n",
    "    'BOOT', 'BORR', 'BOSC', 'BOTJ', 'BOTZ', 'BOWX', 'BOX', 'BOXL', 'BP', 'BPFH', 'BPMC', 'BPOP', 'BPRN', 'BPT', 'BPTH', 'BPY', 'BR',\n",
    "    'BRC', 'BRD', 'BRFS', 'BRG', 'BRID', 'BRIV', 'BRLI', 'BRLT', 'BRMK', 'BRN', 'BRO', 'BROG', 'BRP', 'BRPA', 'BRPM', 'BRPX', 'BRT',\n",
    "    'BRX', 'BRY', 'BRYT', 'BSA', 'BSAC', 'BSBK', 'BSE', 'BSGM', 'BSIG', 'BSKY', 'BSM', 'BSMX', 'BSN', 'BSQR', 'BSRR', 'BST', 'BSTC',\n",
    "    'BSTZ', 'BSVN', 'BSX', 'BTA', 'BTBT', 'BTCY', 'BTG', 'BTI', 'BTN', 'BTRS', 'BTU', 'BTWN', 'BTX', 'BTZ', 'BUD', 'BUFF', 'BURO', 'BURR',\n",
    "    'BUSE', 'BV', 'BVA', 'BVH', 'BVN', 'BVXV', 'BWA', 'BWAC', 'BWAY', 'BWB', 'BWEN', 'BWFG', 'BWL.A', 'BWMX', 'BWSN', 'BX', 'BXC', 'BXG',\n",
    "    'BXMT', 'BXMX', 'BXRX', 'BXS', 'BY', 'BYD', 'BYFC', 'BYM', 'BYND', 'BYSI', 'BZH', 'BZI', 'BZUN', 'C', 'CAAP', 'CAAS', 'CABA', 'CAC',\n",
    "    'CACC', 'CACI', 'CADE', 'CAE', 'CAF', 'CAG', 'CAH', 'CAI', 'CAJ', 'CAL', 'CALA', 'CALB', 'CALM', 'CALX', 'CAMP', 'CAMT', 'CAN',\n",
    "    'CANF', 'CANG', 'CANO', 'CAP', 'CAPA', 'CAPL', 'CAPP', 'CAPR', 'CAPU', 'CAR', 'CARA', 'CARE', 'CARG', 'CARH', 'CARO', 'CARR', 'CARS',\n",
    "    'CARV', 'CASA', 'CASH', 'CASI', 'CASS', 'CASY', 'CATB', 'CATC', 'CATM', 'CATO', 'CATY', 'CB', 'CBAN', 'CBAT', 'CBAY', 'CBB', 'CBD',\n",
    "    'CBFV', 'CBH', 'CBIO', 'CBL', 'CBLI', 'CBMB', 'CBMG', 'CBNK', 'CBOE', 'CBRE', 'CBRL', 'CBSH', 'CBT', 'CBTX', 'CBU', 'CBZ', 'CC',\n",
    "    'CCAC', 'CCAP', 'CCB', 'CCBG', 'CCC', 'CCCL', 'CCD', 'CCDC', 'CCEP', 'CCF', 'CCFC', 'CCG', 'CCH', 'CCH.U', 'CCH.W', 'CCI', 'CCIV',\n",
    "    'CCK', 'CCL', 'CCM', 'CCMP', 'CCNC', 'CCNE', 'CCO', 'CCOI', 'CCRN', 'CCS', 'CCU', 'CCV', 'CCXI', 'CD', 'CDAK', 'CDAY', 'CDE', 'CDEV',\n",
    "    'CDK', 'CDLX', 'CDMO', 'CDNA', 'CDNS', 'CDR', 'CDTX', 'CDW', 'CDXC', 'CDXS', 'CDZI', 'CE', 'CEA', 'CECE', 'CEI', 'CEIX', 'CEL',\n",
    "    'CELC', 'CELG', 'CEMI', 'CEN', 'CENH', 'CENQ', 'CENT', 'CENTA', 'CENX', 'CEP', 'CEPU', 'CEQP', 'CERC', 'CERN', 'CERS', 'CERT',\n",
    "    'CET', 'CETV', 'CETX', 'CEV', 'CEVA', 'CEY', 'CF', 'CFA', 'CFAC', 'CFB', 'CFBI', 'CFBK', 'CFFI', 'CFFN', 'CFG', 'CFII', 'CFIV',\n",
    "    'CFMS', 'CFO', 'CFR', 'CFRX', 'CFV', 'CG', 'CGBD', 'CGC', 'CGEM', 'CGEN', 'CGNT', 'CGNX', 'CGRO', 'CHA', 'CHAP', 'CHCT', 'CHD',\n",
    "    'CHDN', 'CHE', 'CHEF', 'CHEK', 'CHEKZ', 'CHFS', 'CHFW', 'CHGG', 'CHH', 'CHI', 'CHIC', 'CHII', 'CHIY', 'CHK', 'CHKP', 'CHL', 'CHMA',\n",
    "    'CHMG', 'CHMI', 'CHN', 'CHNG', 'CHNR', 'CHPM', 'CHRA', 'CHRS', 'CHRW', 'CHS', 'CHT', 'CHTR', 'CHU', 'CHUY', 'CHW', 'CHX', 'CHY',\n",
    "    'CI', 'CIA', 'CIB', 'CIC', 'CIC.U', 'CIC.W', 'CIE', 'CIEN', 'CIF', 'CIG', 'CIH', 'CII', 'CIIC', 'CIM', 'CINF', 'CINR', 'CIO', 'CIR',\n",
    "    'CIVB', 'CIX', 'CIZN', 'CJJD', 'CKPT', 'CKX', 'CL', 'CLA', 'CLAA', 'CLAR', 'CLB', 'CLBK', 'CLBS', 'CLCT', 'CLDB', 'CLDR', 'CLDT',\n",
    "    'CLDX', 'CLEU', 'CLF', 'CLFD', 'CLGN', 'CLGX', 'CLH', 'CLI', 'CLII', 'CLIR', 'CLLS', 'CLM', 'CLMT', 'CLNC', 'CLNE', 'CLNN', 'CLNY',\n",
    "    'CLPR', 'CLPS', 'CLPT', 'CLR', 'CLRB', 'CLRM', 'CLRO', 'CLS', 'CLSK', 'CLSN', 'CLVR', 'CLVS', 'CLW', 'CLWT', 'CLX', 'CLXT', 'CM',\n",
    "    'CMA', 'CMAX', 'CMBM', 'CMC', 'CMCL', 'CMCO', 'CMCSA', 'CMCT', 'CMD', 'CME', 'CMG', 'CMI', 'CMII', 'CMLF', 'CMLFU', 'CMLFW',\n",
    "    'CMLS', 'CMO', 'CMP', 'CMPR', 'CMPS', 'CMPX', 'CMRE', 'CMRX', 'CMS', 'CMT', 'CMTL', 'CMU', 'CNA', 'CNBKA', 'CNC', 'CNCE', 'CND',\n",
    "    'CNDT', 'CNET', 'CNI', 'CNK', 'CNMD', 'CNNB', 'CNNE', 'CNO', 'CNOB', 'CNP', 'CNR', 'CNS', 'CNSL', 'CNSP', 'CNST', 'CNTG', 'CNU',\n",
    "    'CNXC', 'CNXN', 'CO', 'COCP', 'CODI', 'CODX', 'COE', 'COF', 'COFS', 'COG', 'COGT', 'COHN', 'COHR', 'COHU', 'COIN', 'COKE', 'COLB',\n",
    "    'COLD', 'COLL', 'COLM', 'COMM', 'CONE', 'CONN', 'CONX', 'COOL', 'COOP', 'COP', 'COR', 'CORE', 'CORR', 'CORS', 'CORV', 'COST', 'COTY',\n",
    "    'COUR', 'COWN', 'CP', 'CPA', 'CPB', 'CPE', 'CPF', 'CPG', 'CPHC', 'CPHI', 'CPIX', 'CPK', 'CPLG', 'CPLP', 'CPRI', 'CPRX', 'CPS', 'CPSH',\n",
    "    'CPSI', 'CPSR', 'CPSS', 'CPST', 'CPT', 'CPTA', 'CPTAG', 'CPTAL', 'CPTK', 'CQP', 'CR', 'CRAI', 'CRAK', 'CRBP', 'CRC', 'CRCT', 'CRD.A',\n",
    "    'CRD.B', 'CRDF', 'CREE', 'CREG', 'CRESY', 'CREX', 'CRF', 'CRH', 'CRHC', 'CRHM', 'CRI', 'CRIS', 'CRK', 'CRL', 'CRM', 'CRMD', 'CRMT',\n",
    "    'CRNC', 'CRNT', 'CRNX', 'CRON', 'CROX', 'CRSA', 'CRSR', 'CRT', 'CRTO', 'CRTX', 'CRU', 'CRUS', 'CRVL', 'CRVS', 'CRWD', 'CRY', 'CRZN',\n",
    "    'CRZY', 'CS', 'CSBR', 'CSCO', 'CSCW', 'CSGP', 'CSGS', 'CSII', 'CSL', 'CSLT', 'CSOD', 'CSPR', 'CSR', 'CSS', 'CSTL', 'CSTM', 'CSTR',\n",
    "    'CSU', 'CSV', 'CSWC', 'CSWI', 'CSX', 'CTAC', 'CTAQ', 'CTAS', 'CTB', 'CTBB', 'CTEK', 'CTG', 'CTHR', 'CTIB', 'CTIC', 'CTK', 'CTMX',\n",
    "    'CTO', 'CTRA', 'CTRE', 'CTRM', 'CTRQ', 'CTRT', 'CTRX', 'CTS', 'CTSH', 'CTSO', 'CTT', 'CTVA', 'CTXR', 'CTY', 'CTZ', 'CUBA', 'CUBE',\n",
    "    'CUBI', 'CUE', 'CUK', 'CULP', 'CURO', 'CUTR', 'CUZ', 'CVA', 'CVAC', 'CVBF', 'CVCO', 'CVCY', 'CVE', 'CVEO', 'CVET', 'CVGI', 'CVGW',\n",
    "    'CVI', 'CVII', 'CVLG', 'CVLT', 'CVLY', 'CVM', 'CVNA', 'CVR', 'CVS', 'CVSI', 'CVU', 'CVX', 'CW', 'CWBC', 'CWBR', 'CWCO', 'CWEB', 'CWEN',\n",
    "    'CWH', 'CWK', 'CWST', 'CWT', 'CX', 'CXDC', 'CXO', 'CXP', 'CXW', 'CYAD', 'CYAN', 'CYBE', 'CYBR', 'CYCC', 'CYCN', 'CYD', 'CYH', 'CYRX',\n",
    "    'CYTH', 'CYTK', 'CZA', 'CZNC', 'CZR', 'CZWI', 'CZZ', 'D', 'DAC', 'DADA', 'DAIO', 'DAKT', 'DAL', 'DAN', 'DAO', 'DAR', 'DARE', 'DAVA',\n",
    "    'DB', 'DBD', 'DBI', 'DBL', 'DBOC', 'DBTX', 'DBVT', 'DBX', 'DCBO', 'DCI', 'DCO', 'DCOM', 'DCPH', 'DCRB', 'DCRC', 'DCT', 'DCUE', 'DD',\n",
    "    'DDC', 'DDD', 'DDEC', 'DDF', 'DDI', 'DDMX', 'DDOG', 'DDS', 'DDT', 'DDWM', 'DE', 'DEA', 'DECK', 'DEH', 'DEI', 'DELL', 'DEN',\n",
    "    'DENN', 'DEO', 'DESU', 'DESP', 'DESP.U', 'DESP.W', 'DEX', 'DFB', 'DFD', 'DFE', 'DFEN', 'DFFN', 'DFH', 'DFHT', 'DFIN', 'DFHY', 'DFIN',\n",
    "    'DFJ', 'DFNS', 'DFNS.U', 'DFNS.W', 'DFP', 'DFPH', 'DFS', 'DFT', 'DG', 'DGICA', 'DGICB', 'DGII', 'DGLY', 'DGNS', 'DGX', 'DHC', 'DHF',\n",
    "    'DHI', 'DHIL', 'DHR', 'DHT', 'DHX', 'DIAX', 'DIN', 'DIOD', 'DIS', 'DISCA', 'DISCB', 'DISCK', 'DISH', 'DIT', 'DIV', 'DIVC', 'DIVO',\n",
    "    'DIVY', 'DJAN', 'DJCO', 'DJUL', 'DJUN', 'DK', 'DKL', 'DKNG', 'DKS', 'DL', 'DLA', 'DLB', 'DLCA', 'DLHC', 'DLNG', 'DLPH', 'DLPN', 'DLR',\n",
    "    'DLTH', 'DLTR', 'DLX', 'DM', 'DMAC', 'DMB', 'DMF', 'DMLP', 'DMO', 'DMRC', 'DMS', 'DMTK', 'DMYD', 'DMYI', 'DNI', 'DNK', 'DNLI', 'DNMR',\n",
    "    'DNN', 'DNOV', 'DNOW', 'DNP', 'DNZ.U', 'DNZ.W', 'DOCN', 'DOCS', 'DOCU', 'DOGZ', 'DOMO', 'DON', 'DOO', 'DOOO', 'DORM', 'DOV', 'DOW',\n",
    "    'DOX', 'DOYU', 'DPG', 'DPW', 'DPZ', 'DQ', 'DRD', 'DRE', 'DRH', 'DRI', 'DRIO', 'DRIV', 'DRIW', 'DRNA', 'DRQ', 'DRRX', 'DRVN', 'DS',\n",
    "    'DSE', 'DSGN', 'DSGX', 'DSKE', 'DSL', 'DSM', 'DSOC', 'DSPG', 'DSS', 'DSSI', 'DSU', 'DSWL', 'DSX', 'DT', 'DTE', 'DTF', 'DTIL', 'DTJ',\n",
    "    'DTLA', 'DTQ', 'DTRK', 'DTSS', 'DTST', 'DTW', 'DTY', 'DUDE', 'DUK', 'DUKB', 'DUKC', 'DUKH', 'DUO', 'DUOT', 'DURA', 'DUSL', 'DVA',\n",
    "    'DVAX', 'DVN', 'DVY', 'DWAC', 'DWAT', 'DWAW', 'DWCR', 'DWIN', 'DWLD', 'DWMC', 'DWSH', 'DWX', 'DX', 'DXC', 'DXCM', 'DXD', 'DXF', 'DXPE',\n",
    "    'DXR', 'DXYN', 'DY', 'DYAI', 'DYN', 'DYNT', 'DYSL', 'DZSI', 'DZZ', 'E', 'EA', 'EAF', 'EAI', 'EARN', 'EARS', 'EAST', 'EAT', 'EB',\n",
    "    'EBAC', 'EBAY', 'EBF', 'EBIX', 'EBMT', 'EBON', 'EBR', 'EBS', 'EBSB', 'EBTC', 'EC', 'ECC', 'ECCA', 'ECCB', 'ECCW', 'ECHO', 'ECL',\n",
    "    'ECOL', 'ECOM', 'ECOR', 'ECOS', 'ECOW', 'ECR', 'ECT', 'ED', 'EDAP', 'EDD', 'EDF', 'EDI', 'EDIT', 'EDN', 'EDR', 'EDRY', 'EDSA', 'EDTK',\n",
    "    'EDTX', 'EDU', 'EDUC', 'EEA', 'EEFT', 'EEIQ', 'EEX', 'EFC', 'EFOI', 'EFR', 'EFSC', 'EFT', 'EFX', 'EGAN', 'EGBN', 'EGF', 'EGHT', 'EGLE',\n",
    "    'EGLX', 'EGO', 'EGOV', 'EGP', 'EGY', 'EHC', 'EHI', 'EHT', 'EIC', 'EIDX', 'EIG', 'EIGI', 'EIGR', 'EIM', 'EIX', 'EJFA', 'EJFA.U',\n",
    "    'EJFA.W', 'EKSO', 'EL', 'ELA', 'ELAN', 'ELAT', 'ELC', 'ELD', 'ELF', 'ELLO', 'ELMD', 'ELOX', 'ELS', 'ELSE', 'ELTK', 'ELVT', 'ELY',\n",
    "    'EMAN', 'EMCF', 'EMD', 'EME', 'EMF', 'EMKR', 'EML', 'EMN', 'EMO', 'EMP', 'EMR', 'ENB', 'ENBA', 'ENBL', 'ENDP', 'ENFA', 'ENFR', 'ENG',\n",
    "    'ENIA', 'ENIC', 'ENJ', 'ENLC', 'ENLV', 'ENNV', 'ENO', 'ENOB', 'ENPC', 'ENPH', 'ENR', 'ENR.P', 'ENS', 'ENSG', 'ENSV', 'ENTA', 'ENTG',\n",
    "    'ENTX', 'ENV', 'ENVA', 'ENVI', 'ENVIU', 'ENVIW', 'ENX', 'ENZ', 'EOD', 'EOG', 'EOI', 'EOLS', 'EOS', 'EOSE', 'EOT', 'EP', 'EPAC',\n",
    "    'EPAM', 'EPAY', 'EPC', 'EPD', 'EPIX', 'EPR', 'EPRT', 'EPSN', 'EPWR.U', 'EPWR.W', 'EPZM', 'EQ', 'EQBK', 'EQC', 'EQD', 'EQH', 'EQHA',\n",
    "    'EQIX', 'EQR', 'EQS', 'EQT', 'EQX', 'ERES', 'ERF', 'ERI', 'ERIC', 'ERIE', 'ERII', 'ERJ', 'ERM', 'ERO', 'ERSX', 'ERYP', 'ES', 'ESBK',\n",
    "    'ESCA', 'ESE', 'ESGC', 'ESGR', 'ESI', 'ESLT', 'ESM', 'ESNT', 'ESPR', 'ESQ', 'ESRT', 'ESS', 'ESSA', 'ESTA', 'ESXB', 'ET', 'ETAC',\n",
    "    'ETB', 'ETG', 'ETH', 'ETI', 'ETJ', 'ETM', 'ETN', 'ETNB', 'ETO', 'ETON', 'ETR', 'ETRN', 'ETSY', 'ETTX', 'ETV', 'ETW', 'ETWO', 'ETX',\n",
    "    'ETY', 'EUCG', 'EURN', 'EURZ', 'EVA', 'EVBG', 'EVBN', 'EVC', 'EVER', 'EVF', 'EVFM', 'EVG', 'EVH', 'EVI', 'EVK', 'EVLO', 'EVM', 'EVN',\n",
    "    'EVOK', 'EVOL', 'EVOP', 'EVR', 'EVRG', 'EVRI', 'EVTC', 'EVV', 'EVX', 'EVY', 'EWBC', 'EWTX', 'EXAS', 'EXC', 'EXD', 'EXEL', 'EXFO',\n",
    "    'EXG', 'EXK', 'EXLS', 'EXN', 'EXP', 'EXPC', 'EXPD', 'EXPE', 'EXPI', 'EXPO', 'EXPR', 'EXR', 'EXTN', 'EXTR', 'EYE', 'EYEG', 'EYES',\n",
    "    'EYPT', 'EZGO', 'EZJ', 'EZPW', 'EZU', 'F', 'FA', 'FACA', 'FACT', 'FAD', 'FAF', 'FAGD', 'FALN', 'FAM', 'FAMI', 'FANG', 'FANH',\n",
    "    'FANZ', 'FARM', 'FARO', 'FAST', 'FAT', 'FATE', 'FAUG', 'FAX', 'FAZ', 'FB', 'FBC', 'FBHS', 'FBIO', 'FBIOP', 'FBIZ', 'FBMS', 'FBNC',\n",
    "    'FBP', 'FBRX', 'FC', 'FCAU', 'FCBC', 'FCCO', 'FCCY', 'FCEL', 'FCF', 'FCFS', 'FCN', 'FCNCA', 'FCPT', 'FCRD', 'FCRW', 'FCRZ', 'FCT',\n",
    "    'FDBC', 'FDC', 'FDEU', 'FDMO', 'FDP', 'FDS', 'FDUS', 'FDX', 'FE', 'FEAC', 'FEDU', 'FEI', 'FELE', 'FEN', 'FENC', 'FENG', 'FEO', 'FET',\n",
    "    'FEVR', 'FEYE', 'FF', 'FFA', 'FFBC', 'FFBW', 'FFC', 'FFG', 'FFHL', 'FFIC', 'FFIN', 'FFIU', 'FFIV', 'FFNW', 'FFWM', 'FG', 'FGB',\n",
    "    'FGBI', 'FGEN', 'FGF', 'FGNA', 'FGNB', 'FGNFW', 'FGP', 'FHB', 'FHI', 'FHN', 'FHTX', 'FI', 'FIBK', 'FICO', 'FIF', 'FIII', 'FINS',\n",
    "    'FINV', 'FIS', 'FISI', 'FISV', 'FIT', 'FIV', 'FIVA', 'FIVE', 'FIVG', 'FIX', 'FIXD', 'FIXX', 'FIZZ', 'FJUL', 'FJP', 'FKU', 'FL',\n",
    "    'FLAC', 'FLDM', 'FLEX', 'FLGT', 'FLIC', 'FLL', 'FLM', 'FLME', 'FLMN', 'FLNG', 'FLNT', 'FLO', 'FLOW', 'FLR', 'FLS', 'FLT', 'FLWS',\n",
    "    'FLXN', 'FLXS', 'FLY', 'FLYW', 'FMAG', 'FMAO', 'FMAY', 'FMB', 'FMBH', 'FMBI', 'FMC', 'FMHI', 'FMK', 'FMN', 'FMNB', 'FMO', 'FMS',\n",
    "    'FMTX', 'FMX', 'FMY', 'FN', 'FNB', 'FNCB', 'FNCH', 'FND', 'FNDA', 'FNDB', 'FNDC', 'FNDE', 'FNDF', 'FNDX', 'FNF', 'FNHC', 'FNKO',\n",
    "    'FNLC', 'FNOV', 'FNV', 'FNWB', 'FNX', 'FNY', 'FOA', 'FOCS', 'FOE', 'FOF', 'FOLD', 'FONR', 'FOR', 'FOREU', 'FORM', 'FORR', 'FORTY',\n",
    "    'FOSL', 'FOUR', 'FOX', 'FOXA', 'FOXF', 'FPA.U', 'FPA.W', 'FPAC', 'FPAY', 'FPE', 'FPH', 'FPI', 'FPI.P', 'FPL', 'FPRO', 'FPXE', 'FPXF',\n",
    "    'FPXI', 'FQAL', 'FR', 'FRA', 'FRAF', 'FRBA', 'FRBK', 'FRC', 'FREQ', 'FRF', 'FRG', 'FRGAP', 'FRGI', 'FRHC', 'FRLN', 'FRME', 'FRO',\n",
    "    'FROG', 'FRONU', 'FRPH', 'FRPT', 'FRSX', 'FRT', 'FRTA', 'FRTY', 'FRX', 'FRXB', 'FSBW', 'FSD', 'FSDC', 'FSEA', 'FSEP', 'FSFG', 'FSI',\n",
    "    'FSII', 'FSK', 'FSLF', 'FSLR', 'FSLY', 'FSM', 'FSMB', 'FSP', 'FSR', 'FSRV', 'FSS', 'FSSI', 'FSSIU', 'FSSIW', 'FST', 'FST.U', 'FST.W',\n",
    "    'FSTX', 'FSV', 'FSZ', 'FT', 'FTA', 'FTAC', 'FTAG', 'FTAI', 'FTC', 'FTCH', 'FTCI', 'FTCS', 'FTDR', 'FTEC', 'FTEK', 'FTF', 'FTFT', 'FTGC',\n",
    "    'FTHI', 'FTI', 'FTIV', 'FTK', 'FTLB', 'FTLS', 'FTNT', 'FTOC', 'FTPA', 'FTRC', 'FTS', 'FTSI', 'FTV', 'FTVI', 'FTVIV', 'FTXH', 'FTXL',\n",
    "    'FTXO', 'FTXR', 'FUBO', 'FUL', 'FULC', 'FULT', 'FULTP', 'FUN', 'FUNC', 'FUND', 'FUSB', 'FUSE', 'FUSN', 'FUT', 'FUTU', 'FUTY', 'FUV',\n",
    "    'FV', 'FVAC', 'FVC', 'FVE', 'FVRR', 'FWAA', 'FWDB', 'FWDG', 'FWONA', 'FWONK', 'FWP', 'FWRD', 'FXA', 'FXB', 'FXC', 'FXD', 'FXE', 'FXF',\n",
    "    'FXG', 'FXH', 'FXI', 'FXL', 'FXN', 'FXNC', 'FXO', 'FXP', 'FXR', 'FXU', 'FXY', 'FXZ', 'FYBR', 'FYC', 'FYLD', 'FYT', 'FYX', 'FZT', 'G',\n",
    "    'GAB', 'GAB.G', 'GAB.H', 'GABC', 'GAIA', 'GAIN', 'GALT', 'GAM', 'GAMC', 'GAN', 'GASS', 'GATO', 'GATX', 'GAU', 'GB', 'GBAB', 'GBCI',\n",
    "    'GBDC', 'GBDV', 'GBF', 'GBGR', 'GBIL', 'GBIO', 'GBL', 'GBLI', 'GBNY', 'GBR', 'GBT', 'GBTC', 'GBX', 'GCBC', 'GCC', 'GCI', 'GCMG',\n",
    "    'GCO', 'GCP', 'GCV', 'GD', 'GDDY', 'GDEN', 'GDI', 'GDL', 'GDMA', 'GDNA', 'GDO', 'GDOT', 'GDP', 'GDRX', 'GDS', 'GDV', 'GDYN', 'GE',\n",
    "    'GECC', 'GECCL', 'GECCM', 'GECCN', 'GEF', 'GEG', 'GEL', 'GELU', 'GELX', 'GEN', 'GENC', 'GENE', 'GENI', 'GENX', 'GEO', 'GEOS',\n",
    "    'GER', 'GERN', 'GES', 'GEVO', 'GF', 'GFED', 'GFF', 'GFI', 'GFL', 'GFN', 'GFNCP', 'GFNSL', 'GGAL', 'GGB', 'GGG', 'GGG.U', 'GGG.W',\n",
    "    'GGN', 'GGN.P', 'GGT', 'GGT.P', 'GGZ', 'GGZ.P', 'GH', 'GHC', 'GHG', 'GHIV', 'GHIVU', 'GHIVW', 'GHLD', 'GHM', 'GHSI', 'GHY', 'GHYB',\n",
    "    'GHYG', 'GIB', 'GIFI', 'GIG', 'GIGB', 'GIGE', 'GIGM', 'GIII', 'GIK', 'GIL', 'GILD', 'GILT', 'GIM', 'GINN', 'GIS', 'GIX', 'GIX.R',\n",
    "    'GIX.U', 'GIX.W', 'GJH', 'GJO', 'GJP', 'GJR', 'GJS', 'GJT', 'GKOS', 'GL', 'GLAE', 'GLAQ', 'GLBL', 'GLBR', 'GLBS', 'GLBZ', 'GLDD',\n",
    "    'GLDG', 'GLEO', 'GLEO.U', 'GLEO.W', 'GLG', 'GLMD', 'GLNG', 'GLO', 'GLOB', 'GLOG', 'GLOP', 'GLP', 'GLP.P', 'GLPG', 'GLPI', 'GLQ',\n",
    "    'GLRE', 'GLSI', 'GLT', 'GLTA', 'GLTO', 'GLU', 'GLU.P', 'GLUU', 'GLV', 'GLW', 'GLYC', 'GM', 'GMAB', 'GMDA', 'GME', 'GMED', 'GMII',\n",
    "    'GMLP', 'GMO', 'GMOL', 'GMRE', 'GMS', 'GMTA', 'GMVD', 'GMZ', 'GNAF', 'GNCA', 'GNE', 'GNFT', 'GNGR', 'GNK', 'GNL', 'GNL.P', 'GNLN',\n",
    "    'GNMA', 'GNMK', 'GNPX', 'GNR', 'GNRC', 'GNRS', 'GNSS', 'GNT', 'GNT.P', 'GNTX', 'GNTY', 'GNUS', 'GNW', 'GO', 'GOAC', 'GOEV', 'GOF',\n",
    "    'GOGL', 'GOGO', 'GOL', 'GOLD', 'GOLF', 'GOOD', 'GOODM', 'GOODO', 'GOODP', 'GOOG', 'GOOGL', 'GOOS', 'GOP', 'GORO', 'GOSS', 'GOV',\n",
    "    'GOVX', 'GOVXW', 'GOXS', 'GP', 'GPAC', 'GPAT', 'GPC', 'GPI', 'GPJA', 'GPK', 'GPL', 'GPM', 'GPMT', 'GPN', 'GPP', 'GPRE', 'GPRK',\n",
    "    'GPRO', 'GPS', 'GPX', 'GRA', 'GRAY', 'GRBK', 'GRCY', 'GRCY.U', 'GRCY.W', 'GRF', 'GRFS', 'GRID', 'GRIF', 'GRIL', 'GRIN', 'GRMN',\n",
    "    'GRN', 'GRNQ', 'GRNV', 'GRNVR', 'GRNVU', 'GRNVW', 'GROW', 'GRP.U', 'GRPN', 'GRSV', 'GRTS', 'GRTX', 'GRUB', 'GRVY', 'GRWG', 'GRX',\n",
    "    'GS', 'GS.A', 'GSAT', 'GSBC', 'GSBD', 'GSEE', 'GSEU', 'GSG', 'GSHD', 'GSID', 'GSIE', 'GSIG', 'GSIT', 'GSJY', 'GSK', 'GSKY', 'GSL',\n",
    "    'GSLC', 'GSLY', 'GSM', 'GSMG', 'GSMGW', 'GSQD', 'GSQD.U', 'GSQD.W', 'GSS', 'GSUM', 'GSV', 'GSX', 'GT', 'GTE', 'GTEC', 'GTEY', 'GTLS',\n",
    "    'GTN', 'GTN.A', 'GTO', 'GTS', 'GTT', 'GTX', 'GTY', 'GTYH', 'GUDB', 'GULF', 'GURE', 'GURU', 'GUSH', 'GUT', 'GUT.P', 'GVA', 'GVP',\n",
    "    'GWB', 'GWGH', 'GWPH', 'GWRE', 'GWRS', 'GWW', 'GYC', 'GYLD', 'H', 'HA', 'HAE', 'HAFC', 'HAIN', 'HAL', 'HALO', 'HAPP', 'HARP', 'HAS',\n",
    "    'HASI', 'HBB', 'HBCP', 'HBI', 'HBIO', 'HBMD', 'HBNC', 'HBP', 'HCA', 'HCAC', 'HCAR', 'HCAT', 'HCC', 'HCCC', 'HCDI', 'HCHC', 'HCI',\n",
    "    'HCKT', 'HCM', 'HCNE', 'HCNY', 'HCSG', 'HCVI', 'HCYT', 'HD', 'HDB', 'HDS', 'HDSN', 'HE', 'HEAR', 'HEC', 'HEES', 'HEI', 'HELE',\n",
    "    'HEMB', 'HEMP', 'HEP', 'HEPA', 'HEPS', 'HEQ', 'HES', 'HESM', 'HEWG', 'HEXO', 'HEXQ', 'HEXU', 'HEXW', 'HEY', 'HFBL', 'HFC', 'HFFG',\n",
    "    'HFEN', 'HFFGZ', 'HFGIC', 'HFRO', 'HFRO.P', 'HFWA', 'HGBL', 'HGEN', 'HGSH', 'HGV', 'HHC', 'HHR', 'HI', 'HIBB', 'HIE', 'HIFS', 'HIG',\n",
    "    'HIHO', 'HII', 'HIL', 'HIMS', 'HIMX', 'HIO', 'HIPS', 'HIFS', 'HIG', 'HII', 'HIL', 'HIMS', 'HIMX', 'HIO', 'HIPS', 'HITI', 'HIW',\n",
    "    'HIX', 'HJEN', 'HJLI', 'HJLIW', 'HL', 'HLAH', 'HLAH.U', 'HLAH.W', 'HLBZ', 'HLBZW', 'HLF', 'HLG', 'HLI', 'HLIO', 'HLIT', 'HLNE', 'HLT',\n",
    "    'HLX', 'HMC', 'HMG', 'HMHC', 'HMLP', 'HMN', 'HMNF', 'HMST', 'HMSY', 'HMTV', 'HMY', 'HNGR', 'HNI', 'HNNA', 'HNP', 'HNRA', 'HNW',\n",
    "    'HOFT', 'HOFV', 'HOFVW', 'HOG', 'HOL', 'HOLI', 'HOLUU', 'HOLUW', 'HOLX', 'HOMB', 'HOME', 'HON', 'HOO', 'HOOK', 'HOPE', 'HOTH',\n",
    "    'HOV', 'HOWL', 'HP', 'HPE', 'HPF', 'HPI', 'HPP', 'HPQ', 'HPR', 'HPS', 'HPX', 'HPX.U', 'HPX.W', 'HQH', 'HQI', 'HQL', 'HQY', 'HR',\n",
    "    'HRB', 'HRC', 'HRI', 'HRL', 'HROW', 'HRTG', 'HRTX', 'HRZN', 'HSAC', 'HSBC', 'HSC', 'HSDT', 'HSIC', 'HSII', 'HSKA', 'HSON', 'HST',\n",
    "    'HSTM', 'HSY', 'HT', 'HTA', 'HTAB', 'HTBI', 'HTBK', 'HTBX', 'HTD', 'HTEC', 'HTFA', 'HTGC', 'HTGM', 'HTH', 'HTHT', 'HTIA', 'HTLD',\n",
    "    'HTLF', 'HTOO', 'HTOOW', 'HTPA', 'HTY', 'HTZ', 'HUBB', 'HUBG', 'HUBS', 'HUD', 'HUGE', 'HUGS', 'HUIZ', 'HUM', 'HUN', 'HURC', 'HURN',\n",
    "    'HUSA', 'HUSN', 'HUYA', 'HVBC', 'HVT', 'HWBK', 'HWC', 'HWCC', 'HWCPL', 'HWKN', 'HX', 'HY', 'HYB', 'HYFM', 'HYI', 'HYLN', 'HYMC',\n",
    "    'HYMCW', 'HYRE', 'HYSR', 'HYT', 'HYZD', 'HZN', 'HZNP', 'HZO', 'HZON', 'HZR', 'IAA', 'IAC', 'IAE', 'IAF', 'IAG', 'IAIC', 'IART',\n",
    "    'IBA', 'IBCP', 'IBD', 'IBDC', 'IBDD', 'IBDF', 'IBDG', 'IBDH', 'IBDL', 'IBDM', 'IBDN', 'IBDO', 'IBDP', 'IBDQ', 'IBDR', 'IBDS', 'IBDT',\n",
    "    'IBDU', 'IBDV', 'IBDZ', 'IBER', 'IBEX', 'IBHA', 'IBHB', 'IBHC', 'IBHD', 'IBHE', 'IBIO', 'IBKR', 'IBM', 'IBN', 'IBO', 'IBP', 'IBTX',\n",
    "    'ICAD', 'ICBK', 'ICCC', 'ICCH', 'ICD', 'ICE', 'ICFI', 'ICHR', 'ICL', 'ICLK', 'ICLR', 'ICMB', 'ICOL', 'ICON', 'ICPT', 'ICUI', 'IDA',\n",
    "    'IDAC', 'IDBA', 'IDCC', 'IDE', 'IDEV', 'IDEX', 'IDHD', 'IDHQ', 'IDIV', 'IDLB', 'IDN', 'IDOG', 'IDRA', 'IDRV', 'IDT', 'IDU', 'IDV',\n",
    "    'IDX', 'IDXG', 'IDXX', 'IDYA', 'IEA', 'IEAWW', 'IEC', 'IECS', 'IEDI', 'IEF', 'IEFA', 'IEFN', 'IEHS', 'IEI', 'IEIH', 'IEME', 'IEP',\n",
    "    'IESC', 'IETC', 'IEUR', 'IEUS', 'IEV', 'IEX', 'IEZ', 'IFF', 'IFFT', 'IFGL', 'IFLY', 'IFMK', 'IFN', 'IFRA', 'IFRX', 'IFS', 'IFV',\n",
    "    'IGA', 'IGAC', 'IGC', 'IGD', 'IGI', 'IGIB', 'IGIC', 'IGMS', 'IGNY', 'IGR', 'IGRO', 'IGSB', 'IH', 'IHAK', 'IHC', 'IHD', 'IHF', 'IHG',\n",
    "    'IHI', 'IHIT', 'IHRT', 'IHT', 'IHTA', 'IHY', 'IIAC', 'IIACU', 'IIACW', 'IID', 'IIF', 'III', 'IIII', 'IIIN', 'IIIV', 'IIM', 'IIN',\n",
    "    'IIPR', 'IIPR.P', 'IIVI', 'IIVIP', 'IJAN', 'IJH', 'IJJ', 'IJK', 'IJR', 'IJS', 'IJT', 'IKNX', 'ILCB', 'ILCG', 'ILCV', 'ILF', 'ILMN',\n",
    "    'ILPT', 'ILTB', 'IMAB', 'IMAC', 'IMACW', 'IMAX', 'IMBI', 'IMCC', 'IMCR', 'IMFL', 'IMGN', 'IMH', 'IMKTA', 'IMLP', 'IMMP', 'IMMR',\n",
    "    'IMNM', 'IMO', 'IMOS', 'IMPX', 'IMPX.U', 'IMPX.W', 'IMPX.WS', 'IMPXU', 'IMPXW', 'IMPXW.WS', 'IMPY', 'IMRA', 'IMRC', 'IMRN', 'IMTE',\n",
    "    'IMTX', 'IMTXW', 'IMUX', 'IMV', 'IMVT', 'IMXI', 'INAB', 'INBK', 'INBKZ', 'INBX', 'INCO', 'INCY', 'IND', 'INDB', 'INDL', 'INDO',\n",
    "    'INDT', 'INDY', 'INFI', 'INFN', 'INFO', 'INFR', 'INFU', 'INFY', 'ING', 'INGN', 'INGR', 'INGS', 'INMB', 'INMD', 'INN', 'INO', 'INOD',\n",
    "    'INOV', 'INPX', 'INS', 'INSE', 'INSG', 'INSI', 'INSM', 'INSP', 'INSW', 'INSW.P', 'INSY', 'INT', 'INTC', 'INTG', 'INTT', 'INTU', 'INTZ',\n",
    "    'INUV', 'INVA', 'INVE', 'INVH', 'INZY', 'IO', 'IONS', 'IOO', 'IOR', 'IOSP', 'IOVA', 'IP', 'IPA', 'IPAC', 'IPAR', 'IPAY', 'IPB', 'IPDN',\n",
    "    'IPFF', 'IPG', 'IPGP', 'IPI', 'IPKW', 'IPO', 'IPOS', 'IPSC', 'IPV', 'IPV.U', 'IPV.W', 'IPWR', 'IQ', 'IQDG', 'IQDY', 'IQI', 'IQIN',\n",
    "    'IQLT', 'IQM', 'IQSI', 'IQV', 'IR', 'IRBO', 'IRBT', 'IRCP', 'IRDM', 'IRIX', 'IRL', 'IRM', 'IRMD', 'IROQ', 'IRR', 'IRS', 'IRT', 'IRTC',\n",
    "    'IRWD', 'ISAA', 'ISBC', 'ISCB', 'ISHG', 'ISIG', 'ISLE', 'ISOS', 'ISR', 'ISSC', 'ISTB', 'ISTR', 'ISUN', 'IT', 'ITA', 'ITB', 'ITCB',\n",
    "    'ITCI', 'ITEQ', 'ITGR', 'ITHX', 'ITI', 'ITIC', 'ITM', 'ITMR', 'ITOS', 'ITOT', 'ITP', 'ITQ', 'ITQRU', 'ITRI', 'ITRM', 'ITRN', 'ITT',\n",
    "    'ITUB', 'ITW', 'IVA', 'IVAC', 'IVAN', 'IVAN.U', 'IVAN.W', 'IVC', 'IVE', 'IVH', 'IVLC', 'IVLU', 'IVOG', 'IVOL', 'IVR', 'IVRA', 'IVSG',\n",
    "    'IVZ', 'IWB', 'IWC', 'IWD', 'IWF', 'IWL', 'IWM', 'IWN', 'IWO', 'IWP', 'IWR', 'IWS', 'IWV', 'IWX', 'IWY', 'IX', 'IXC', 'IXG', 'IXJ',\n",
    "    'IXN', 'IXP', 'IXSE', 'IXUS', 'IYC', 'IYE', 'IYF', 'IYG', 'IYH', 'IYJ', 'IYK', 'IYLD', 'IYM', 'IYR', 'IYT', 'IYW', 'IYY', 'IYZ', 'IZEA',\n",
    "    'IZRL', 'J', 'JAAA', 'JAGG', 'JAGX', 'JAKK', 'JAMF', 'JAN', 'JANZ', 'JAQCU', 'JAX', 'JAXQ', 'JAZZ', 'JBGS', 'JBHT', 'JBK', 'JBL',\n",
    "    'JBLU', 'JBN', 'JBR', 'JBSS', 'JBT', 'JCE', 'JCI', 'JCIC', 'JCICU', 'JCICW', 'JCO', 'JCOM', 'JCPB', 'JCS', 'JCTCF', 'JCTR', 'JD',\n",
    "    'JDD', 'JE', 'JEF', 'JELD', 'JEMA', 'JEMD', 'JEQ', 'JETS', 'JFIN', 'JFR', 'JFU', 'JG', 'JGH', 'JGLD', 'JHAA', 'JHB', 'JHCS', 'JHEM',\n",
    "    'JHG', 'JHI', 'JHMA', 'JHMC', 'JHMD', 'JHME', 'JHMF', 'JHMH', 'JHMI', 'JHML', 'JHMM', 'JHMS', 'JHMT', 'JHMU', 'JHS', 'JHSC', 'JHX',\n",
    "    'JIGB', 'JIH', 'JIH.U', 'JIH.W', 'JILL', 'JJA', 'JJC', 'JJE', 'JJG', 'JJM', 'JJN', 'JJP', 'JJR', 'JKD', 'JKE', 'JKF', 'JKG', 'JKH',\n",
    "    'JKHY', 'JKI', 'JKJ', 'JKK', 'JKL', 'JKS', 'JLL', 'JLS', 'JMBS', 'JMIA', 'JMIN', 'JMM', 'JMOM', 'JMP', 'JMPC', 'JMT', 'JNCE', 'JNJ',\n",
    "    'JNK', 'JNPR', 'JNUG', 'JO', 'JOAN', 'JOB', 'JOBS', 'JOE', 'JOF', 'JOFF', 'JOUT', 'JOYY', 'JP', 'JPC', 'JPED', 'JPEM', 'JPEU', 'JPGB',\n",
    "    'JPGE', 'JPHF', 'JPHY', 'JPIB', 'JPIN', 'JPLS', 'JPM', 'JPM.P', 'JPMB', 'JPME', 'JPN', 'JPNL', 'JPS', 'JPSE', 'JPST', 'JPT', 'JPUS',\n",
    "    'JPXN', 'JQC', 'JQUA', 'JRI', 'JRJC', 'JRO', 'JRS', 'JRSH', 'JRVR', 'JSCP', 'JSD', 'JSM', 'JSMD', 'JSML', 'JSTC', 'JSTG', 'JSTU',\n",
    "    'JSYNU', 'JT', 'JTA', 'JTD', 'JULZ', 'JUM', 'JUPW', 'JUPWW', 'JUST', 'JVA', 'JW.A', 'JW.B', 'JWN', 'JWS', 'JWS.U', 'JWS.W', 'JXI',\n",
    "    'JYAC', 'JYNT', 'K', 'KAHC', 'KAI', 'KAII', 'KAIIU', 'KAIIW', 'KALA', 'KALL', 'KALU', 'KALV', 'KAMN', 'KAPR', 'KAR', 'KARS', 'KB',\n",
    "    'KBAL', 'KBE', 'KBH', 'KBLM', 'KBLMR', 'KBLMU', 'KBLMW', 'KBR', 'KBSF', 'KBWB', 'KBWD', 'KBWP', 'KBWR', 'KBWY', 'KCAPL', 'KCCB', 'KCE',\n",
    "    'KCNY', 'KDFI', 'KDMN', 'KDP', 'KE', 'KEGX', 'KELYA', 'KELYB', 'KEN', 'KEP', 'KEQU', 'KERN', 'KERNW', 'KEX', 'KEY', 'KEY.P', 'KEYS',\n",
    "    'KF', 'KFFB', 'KFRC', 'KFS', 'KFVG', 'KFY', 'KFYP', 'KGC', 'KGJI', 'KGRN', 'KHC', 'KIDS', 'KIE', 'KIII', 'KIIIU', 'KIIIW', 'KIM',\n",
    "    'KIM.P', 'KIN', 'KINS', 'KINZ', 'KINZU', 'KINZW', 'KIO', 'KIQ', 'KIRK', 'KJAN', 'KKR', 'KKR.P', 'KL', 'KLAC', 'KLAQ', 'KLAQU', 'KLAQW',\n",
    "    'KLCD', 'KLDO', 'KLFE', 'KLIC', 'KLNE', 'KLR', 'KLTR', 'KLXE', 'KMB', 'KMDA', 'KMED', 'KMF', 'KMI', 'KMPH', 'KMPR', 'KMT', 'KMX',\n",
    "    'KN', 'KNBE', 'KNDI', 'KNG', 'KNGS', 'KNL', 'KNOP', 'KNPH', 'KNSA', 'KNSL', 'KNTE', 'KNX', 'KO', 'KOD', 'KODK', 'KOF', 'KOP',\n",
    "    'KOPN', 'KOR', 'KORP', 'KORU', 'KOS', 'KOSS', 'KPTI', 'KR', 'KRA', 'KRBN', 'KRBP', 'KRC', 'KREF', 'KRG', 'KRKR', 'KRMA', 'KRMD',\n",
    "    'KRNL', 'KRO', 'KRON', 'KROS', 'KRP', 'KRT', 'KRUS', 'KRYS', 'KS', 'KSA', 'KSCD', 'KSM', 'KSPN', 'KSS', 'KSU', 'KSU.P', 'KT', 'KTB',\n",
    "    'KTH', 'KTN', 'KTOS', 'KTOV', 'KTOVW', 'KTPA', 'KTPAU', 'KTPAW', 'KURA', 'KURE', 'KURI', 'KURL', 'KURN', 'KURO', 'KUTZ', 'KUUX',\n",
    "    'KUYA', 'KVHI', 'KW', 'KWEB', 'KWR', 'KXIN', 'KYMR', 'KYN', 'KZIA', 'KZR', 'L', 'LAC', 'LACA', 'LACQ', 'LACQU', 'LACQW', 'LADR',\n",
    "    'LAEQ', 'LAEQW', 'LAIX', 'LALP', 'LAMR', 'LANC', 'LAND', 'LANDM', 'LANDO', 'LANDP', 'LARK', 'LASR', 'LATN', 'LATNU', 'LATNW', 'LAUR',\n",
    "    'LAWS', 'LAZ', 'LAZR', 'LAZRW', 'LAZY', 'LB', 'LBAI', 'LBC', 'LBDC', 'LBJ', 'LBPH', 'LBPS', 'LBPSW', 'LBRDA', 'LBRDK', 'LBRT', 'LBTYA',\n",
    "    'LBTYB', 'LBTYK', 'LC', 'LCA', 'LCAA', 'LCAHU', 'LCAHW', 'LCAP', 'LCAPU', 'LCAPW', 'LCI', 'LCII', 'LCNB', 'LCR', 'LCTX', 'LCUT', 'LCY',\n",
    "    'LCYAU', 'LCYAW', 'LD', 'LDEM', 'LDL', 'LDOS', 'LDP', 'LDSF', 'LDUR', 'LE', 'LEA', 'LEAD', 'LEAF', 'LEAP', 'LEAP.U', 'LEAP.W', 'LECO',\n",
    "    'LEDS', 'LEE', 'LEG', 'LEGA', 'LEGH', 'LEGN', 'LEGO', 'LEGR', 'LEJU', 'LEN', 'LEND', 'LEO', 'LESL', 'LEU', 'LEVI', 'LEVL', 'LEVLP',\n",
    "    'LEXX', 'LEXXU', 'LEXXW', 'LFAC', 'LFACU', 'LFACW', 'LFC', 'LFEQ', 'LFTR', 'LFTRU', 'LFTRW', 'LFUS', 'LFVN', 'LGAC', 'LGACU', 'LGACW',\n",
    "    'LGF.A', 'LGF.B', 'LGI', 'LGL', 'LGND', 'LGV', 'LGVN', 'LGVW', 'LGVW.U', 'LGVW.W', 'LH', 'LH.A', 'LHC', 'LHCG', 'LHX', 'LI', 'LIFE',\n",
    "    'LII', 'LILA', 'LILAK', 'LIN', 'LINC', 'LIND', 'LINX', 'LIQT', 'LIT', 'LITB', 'LITE', 'LIVE', 'LIVN', 'LIVX', 'LIZI', 'LJAQ', 'LJAQU',\n",
    "    'LJAQW', 'LJPC', 'LKCO', 'LKFN', 'LKOR', 'LKQ', 'LL', 'LLIT', 'LLNW', 'LLY', 'LMAT', 'LMB', 'LMBS', 'LMFA', 'LMFAW', 'LMND', 'LMNL',\n",
    "    'LMNR', 'LMNX', 'LMPX', 'LMRK', 'LMRKN', 'LMRKO', 'LMRKP', 'LMST', 'LMT', 'LN', 'LNC', 'LND', 'LNDC', 'LNGR', 'LNN', 'LNSR', 'LNT',\n",
    "    'LNTH', 'LOAN', 'LOB', 'LOCO', 'LODE', 'LOKB', 'LOKB.U', 'LOKB.W', 'LOMA', 'LOOP', 'LOPE', 'LOR', 'LORL', 'LOTZ', 'LOTZW', 'LOUP',\n",
    "    'LOV', 'LOVE', 'LOW', 'LOWC', 'LPCN', 'LPG', 'LPI', 'LPL', 'LPLA', 'LPRO', 'LPSN', 'LPTH', 'LPTX', 'LPX', 'LQD', 'LQDA', 'LQDH',\n",
    "    'LRCX', 'LRGE', 'LRGF', 'LRN', 'LSAC', 'LSACU', 'LSACW', 'LSAQ', 'LSBK', 'LSEA', 'LSEAW', 'LSF', 'LSI', 'LSLT', 'LSPD', 'LSTR',\n",
    "    'LSXMA', 'LSXMB', 'LSXMK', 'LTBR', 'LTC', 'LTHM', 'LTL', 'LTN', 'LTPZ', 'LTRN', 'LTRPA', 'LTRPB', 'LTRX', 'LUB', 'LULU', 'LUMO',\n",
    "    'LUNA', 'LUNG', 'LUV', 'LUXA', 'LUXAU', 'LUXAW', 'LUXE', 'LUXEU', 'LVHD', 'LVHE', 'LVHI', 'LVS', 'LVTX', 'LVUS', 'LW', 'LWAY', 'LX',\n",
    "    'LXFR', 'LXP', 'LXRX', 'LXU', 'LYB', 'LYFT', 'LYG', 'LYL', 'LYRA', 'LYTS', 'LYV', 'LZB', 'LZB.P', 'LZEN', 'LZENW', 'LZGI', 'LZGIR',\n",
    "    'LZGIU', 'LZGIW', 'LZMC', 'M', 'MA', 'MAA', 'MAAC', 'MAACU', 'MAACW', 'MAAX', 'MAC', 'MACK', 'MACU', 'MACUU', 'MACUW', 'MAG', 'MAGA',\n",
    "    'MAGS', 'MAIN', 'MAMB', 'MAN', 'MANH', 'MANT', 'MANU', 'MAQC', 'MAQCU', 'MAQCW', 'MAR', 'MARA', 'MARK', 'MARPS', 'MAS', 'MASI',\n",
    "    'MASS', 'MAT', 'MATW', 'MATX', 'MAV', 'MAX', 'MAXN', 'MAXR', 'MAYS', 'MBBB', 'MBBQ', 'MBBX', 'MBII', 'MBIN', 'MBINO', 'MBINP', 'MBIO',\n",
    "    'MBND', 'MBNKP', 'MBOT', 'MBRX', 'MBSD', 'MBT', 'MBTCU', 'MBUU', 'MBWM', 'MC', 'MCA', 'MCADU', 'MCB', 'MCBC', 'MCBS', 'MCD', 'MCEF',\n",
    "    'MCEP', 'MCF', 'MCFT', 'MCHI', 'MCHP', 'MCHX', 'MCI', 'MCK', 'MCMJ', 'MCMJU', 'MCMJW', 'MCN', 'MCO', 'MCR', 'MCRB', 'MCRI', 'MCRO',\n",
    "    'MCS', 'MCV', 'MCY', 'MD', 'MDB', 'MDC', 'MDCA', 'MDGL', 'MDGS', 'MDGSW', 'MDIA', 'MDIV', 'MDJH', 'MDLA', 'MDLQ', 'MDLX', 'MDLY',\n",
    "    'MDLZ', 'MDNA', 'MDP', 'MDRR', 'MDRRP', 'MDRX', 'MDT', 'MDU', 'MDVL', 'MDWD', 'MDWT', 'MDXG', 'MEC', 'MED', 'MEDP', 'MEDS', 'MEG',\n",
    "    'MEI', 'MEIP', 'MELI', 'MEN', 'MEOH', 'MER.P', 'MERC', 'MESA', 'MESO', 'MET', 'MET.P', 'METC', 'METX', 'METXW', 'MFA', 'MFAC', 'MFAC.U',\n",
    "    'MFAC.W', 'MFC', 'MFD', 'MFDX', 'MFEM', 'MFG', 'MFGP', 'MFH', 'MFIN', 'MFINL', 'MFL', 'MFM', 'MFMS', 'MFNC', 'MFO', 'MFT', 'MFUS', 'MFV',\n",
    "    'MG', 'MGA', 'MGEE', 'MGEN', 'MGF', 'MGI', 'MGIC', 'MGK', 'MGLN', 'MGM', 'MGNI', 'MGNX', 'MGP', 'MGPI', 'MGR', 'MGRC', 'MGTA', 'MGTX',\n",
    "    'MGU', 'MGV', 'MGY', 'MGYR', 'MH', 'MH.P', 'MH.PA', 'MH.PB', 'MHAC', 'MHACU', 'MHACW', 'MHD', 'MHE', 'MHF', 'MHG', 'MHH', 'MHI',\n",
    "    'MHK', 'MHLA', 'MHN', 'MHNC', 'MHO', 'MIC', 'MICD', 'MICR', 'MICT', 'MIDD', 'MIDE', 'MIDF', 'MIDU', 'MIDZ', 'MIE', 'MIG', 'MIK',\n",
    "    'MILE', 'MILEW', 'MILN', 'MIME', 'MIN', 'MINC', 'MIND', 'MINDP', 'MINM', 'MINN', 'MINT', 'MIRM', 'MIST', 'MIT', 'MIT+CL', 'MITC',\n",
    "    'MITK', 'MITO', 'MITT', 'MITT.P', 'MIXT', 'MIY', 'MJ', 'MJCO', 'MKC', 'MKC.V', 'MKD', 'MKGI', 'MKL', 'MKSI', 'MKTX', 'MLAB', 'MLAC',\n",
    "    'MLACU', 'MLACW', 'MLCO', 'MLHR', 'MLI', 'MLM', 'MLN', 'MLND', 'MLP', 'MLR', 'MLSS', 'MLVF', 'MMAC', 'MMC', 'MMD', 'MMI', 'MMIN', 'MMIT',\n",
    "    'MMLG', 'MMLP', 'MMM', 'MMMB', 'MMMBW', 'MMMFW', 'MMMFZ', 'MMP', 'MMS', 'MMSI', 'MMT', 'MMTM', 'MMU', 'MMX', 'MMYT', 'MN', 'MNA',\n",
    "    'MNCLU', 'MNDO', 'MNDY', 'MNE', 'MNEA', 'MNESP', 'MNGG', 'MNI', 'MNK', 'MNKD', 'MNOV', 'MNP', 'MNR', 'MNRL', 'MNRO', 'MNSB', 'MNSBP',\n",
    "    'MNSO', 'MNST', 'MNTK', 'MNTX', 'MO', 'MOAT', 'MOD', 'MODN', 'MODV', 'MOFG', 'MOGO', 'MOHO', 'MOHOU', 'MOHOW', 'MOHOZ', 'MOMO',\n",
    "    'MOO', 'MOON', 'MOR', 'MORF', 'MORN', 'MORT', 'MOS', 'MOSY', 'MOTI', 'MOTN', 'MOTNU', 'MOTNW', 'MOTO', 'MOTV', 'MOTVW', 'MOV',\n",
    "    'MOVE', 'MOXC', 'MP', 'MPA', 'MPAA', 'MPAC', 'MPB', 'MPC', 'MPLN', 'MPLN+', 'MPLN=', 'MPLX', 'MPV', 'MPW', 'MPWR', 'MPX', 'MQT',\n",
    "    'MQY', 'MRAC', 'MRACU', 'MRACW', 'MRAD', 'MRAM', 'MRBK', 'MRC', 'MRCY', 'MREO', 'MRGR', 'MRIN', 'MRK', 'MRKR', 'MRLN', 'MRNA', 'MRNS',\n",
    "    'MRO', 'MRSK', 'MRSN', 'MRTN', 'MRTX', 'MRUS', 'MRVI', 'MRVL', 'MS', 'MS.P', 'MS.PA', 'MS.PE', 'MSA', 'MSAC', 'MSACU', 'MSACW', 'MSB',\n",
    "    'MSBI', 'MSC', 'MSD', 'MSEX', 'MSFT', 'MSG', 'MSGM', 'MSGS', 'MSI', 'MSM', 'MSN', 'MSON', 'MSP', 'MSTB', 'MSTR', 'MSVB', 'MT',\n",
    "    'MTA', 'MTAC', 'MTACU', 'MTACW', 'MTB', 'MTBC', 'MTBCP', 'MTC', 'MTCH', 'MTD', 'MTEM', 'MTEX', 'MTG', 'MTL', 'MTLS', 'MTN', 'MTNB',\n",
    "    'MTOR', 'MTP', 'MTR', 'MTRN', 'MTRX', 'MTSC', 'MTSI', 'MTSL', 'MTT', 'MTUL', 'MTUM', 'MTW', 'MTX', 'MTZ', 'MU', 'MUA', 'MUC', 'MUDS',\n",
    "    'MUDSU', 'MUDSW', 'MUE', 'MUFG', 'MUH', 'MUI', 'MUJ', 'MUR', 'MUS', 'MUSA', 'MUST', 'MUTH', 'MUTY', 'MVC', 'MVCD', 'MVF', 'MVNR',\n",
    "    'MVO', 'MVT', 'MVV', 'MWA', 'MWK', 'MX', 'MXC', 'MXDE', 'MXDU', 'MXE', 'MXF', 'MXI', 'MXIM', 'MXL', 'MYC', 'MYD', 'MYE', 'MYF', 'MYFW',\n",
    "    'MYGN', 'MYI', 'MYJ', 'MYN', 'MYO', 'MYOV', 'MYRG', 'MYSZ', 'MYT', 'MYTE', 'MYY', 'MZA', 'MZOR', 'MZZ', 'NABZY', 'NAC', 'NACP', 'NAD',\n",
    "    'NAII', 'NAIL', 'NAK', 'NAKD', 'NAN', 'NANR', 'NAOV', 'NAPA', 'NARI', 'NAT', 'NATH', 'NATI', 'NATR', 'NAV', 'NAVB', 'NAVI', 'NAZ',\n",
    "    'NBB', 'NBBC', 'NBH', 'NBHC', 'NBIX', 'NBO', 'NBR', 'NBSE', 'NBTB', 'NBW', 'NBY', 'NC', 'NCA', 'NCB', 'NCBS', 'NCLH', 'NCMI', 'NCNA',\n",
    "    'NCR', 'NCSM', 'NCTY', 'NCV', 'NCZ', 'NDAC', 'NDACU', 'NDACW', 'NDAQ', 'NDLS', 'NDP', 'NDRA', 'NDRAW', 'NDSN', 'NEA', 'NEAR', 'NEBC',\n",
    "    'NEBCU', 'NEBCW', 'NEE', 'NEM', 'NEN', 'NEO', 'NEOG', 'NEON', 'NEOS', 'NEP', 'NEPH', 'NEPT', 'NERD', 'NERV', 'NES', 'NESR', 'NESRW',\n",
    "    'NET', 'NETE', 'NETI', 'NETL', 'NEU', 'NEV', 'NEW', 'NEWA', 'NEWR', 'NEWT', 'NEWTI', 'NEWTL', 'NEXT', 'NFBK', 'NFE', 'NFG', 'NFH',\n",
    "    'NFJ', 'NFLT', 'NFLX', 'NFO', 'NFTY', 'NG', 'NGA', 'NGA+', 'NGA=', 'NGAB', 'NGAC', 'NGACU', 'NGACW', 'NGD', 'NGE', 'NGG', 'NGL', 'NGL.P',\n",
    "    'NGM', 'NGMS', 'NGS', 'NGVC', 'NGVT', 'NH', 'NHA', 'NHC', 'NHF', 'NHI', 'NHIC', 'NHICU', 'NHICW', 'NHS', 'NHTC', 'NI', 'NI-B', 'NIB',\n",
    "    'NICE', 'NICK', 'NID', 'NIE', 'NIM', 'NINE', 'NIO', 'NIQ', 'NIQ+', 'NIQ=', 'NISN', 'NIU', 'NJR', 'NJV', 'NK', 'NKLA', 'NKLAW', 'NKSH',\n",
    "    'NKTR', 'NKX', 'NL', 'NLIT', 'NLOK', 'NLR', 'NLS', 'NLSN', 'NLSP', 'NLSP+', 'NLSP=', 'NLTX', 'NLY', 'NLY-F', 'NM', 'NMCI', 'NMCO',\n",
    "    'NMFC', 'NMFCL', 'NMI', 'NMIH', 'NMK-B', 'NMK-C', 'NML', 'NMM', 'NMMC', 'NMMCU', 'NMMCW', 'NMR', 'NMRD', 'NMRK', 'NMS', 'NMT', 'NMY',\n",
    "    'NMZ', 'NNA', 'NNBR', 'NNC', 'NNDM', 'NNI', 'NNN', 'NNN-F', 'NNOX', 'NNVC', 'NNY', 'NOA', 'NOAC', 'NOACU', 'NOACW', 'NOAH', 'NOBL',\n",
    "    'NOC', 'NODK', 'NOG', 'NOK', 'NOM', 'NOMD', 'NORW', 'NOV', 'NOVA', 'NOVN', 'NOVT', 'NOW', 'NP', 'NPCE', 'NPK', 'NPN', 'NPO', 'NPTN',\n",
    "    'NPV', 'NQP', 'NR', 'NRAC', 'NRACU', 'NRACW', 'NREF', 'NRG', 'NRGX', 'NRIM', 'NRK', 'NRIX', 'NRK-P', 'NRP', 'NRT', 'NRUC', 'NRZ',\n",
    "    'NRZ-P', 'NS', 'NS-A', 'NS-B', 'NS-C', 'NSA', 'NSA-A', 'NSA-B', 'NSA-C', 'NSA.PR.A', 'NSA.PR.B', 'NSA.PR.C', 'NSC', 'NSCO', 'NSEC', 'NSH',\n",
    "    'NSH.U', 'NSH.W', 'NSIT', 'NSL', 'NSP', 'NSPR', 'NSPR.WS', 'NSS', 'NSSC', 'NSTB', 'NSTB+', 'NSTB=', 'NSTC', 'NSTC+', 'NSTC=', 'NSTD',\n",
    "    'NSTD+', 'NSTD=', 'NSTG', 'NSYS', 'NTAP', 'NTB', 'NTCO', 'NTCT', 'NTEST', 'NTEST.A', 'NTEST.B', 'NTEST.C', 'NTEST.D', 'NTEST.E', 'NTEST.G',\n",
    "    'NTEST.H', 'NTG', 'NTGR', 'NTIC', 'NTIP', 'NTLA', 'NTNX', 'NTP', 'NTR', 'NTRA', 'NTRS', 'NTRSO', 'NTST', 'NTSX', 'NTUS', 'NTWK', 'NTZ',\n",
    "    'NUAG', 'NUAN', 'NUBD', 'NUDM', 'NUE', 'NUEM', 'NUGT', 'NUHY', 'NULC', 'NULG', 'NULV', 'NUM', 'NUMG', 'NUMV', 'NUO', 'NUPN', 'NURA',\n",
    "    'NUS', 'NUSA', 'NUSC', 'NUSI', 'NUV', 'NUVA', 'NUW', 'NUZE', 'NVAX', 'NVCN', 'NVCR', 'NVDA', 'NVEC', 'NVEE', 'NVFY', 'NVG', 'NVGS',\n",
    "    'NVIV', 'NVLN', 'NVR', 'NVRO', 'NVS', 'NVT', 'NVTA', 'NVVE', 'NVVEW', 'NWBI', 'NWE', 'NWFL', 'NWG', 'NWHM', 'NWL', 'NWLI', 'NWN',\n",
    "    'NWPX', 'NWS', 'NWSA', 'NX', 'NXC', 'NXE', 'NXGN', 'NXJ', 'NXN', 'NXP', 'NXPI', 'NXQ', 'NXR', 'NXRT', 'NXST', 'NXTC', 'NXTD', 'NXTG',\n",
    "    'NYC', 'NYCB', 'NYCB-A', 'NYCB-U', 'NYCB-W', 'NYF', 'NYMT', 'NYMTM', 'NYMTN', 'NYMTO', 'NYMTP', 'NYMX', 'NYT', 'NYV', 'NZF', 'O',\n",
    "    'OAC', 'OAC+', 'OAC=', 'OACB', 'OAK-A', 'OAK-B', 'OAK-C', 'OAK-D', 'OAKS', 'OASP', 'OBAS', 'OBCI', 'OBGN', 'OBLG', 'OBLN', 'OBOR',\n",
    "    'OBSV', 'OBT', 'OCC', 'OCCI', 'OCCIP', 'OCFC', 'OCFCP', 'OCFT', 'OCG', 'OCGN', 'OCIO', 'OCLG', 'OCLGW', 'OCN', 'OCSL', 'OCSLL',\n",
    "    'OCSP', 'OCTZ', 'OCUL', 'OCUP', 'OCX', 'ODC', 'ODFL', 'ODP', 'ODT', 'OEC', 'OEG', 'OEPW', 'OEPWW', 'OESX', 'OFED', 'OFG', 'OFIX',\n",
    "    'OFLX', 'OFS', 'OFSSI', 'OFSSL', 'OFSSZ', 'OG', 'OGE', 'OGEN', 'OGI', 'OGIG', 'OGMP', 'OGS', 'OHI', 'OI', 'OIA', 'OIH', 'OII',\n",
    "    'OIIM', 'OIL', 'OILD', 'OILK', 'OIS', 'OKE', 'OKTA', 'OLB', 'OLED', 'OLLI', 'OLMA', 'OLN', 'OLO', 'OLP', 'OM', 'OMAB', 'OMC', 'OMCL',\n",
    "    'OMEG', 'OMER', 'OMEX', 'OMF', 'OMFL', 'OMFS', 'OMI', 'OMIC', 'OMN', 'OMNT', 'OMO', 'OMP', 'ON', 'ONB', 'ONCR', 'ONCS', 'ONCT', 'ONCY',\n",
    "    'ONDS', 'ONDS+', 'ONE', 'ONEM', 'ONEO', 'ONEQ', 'ONEV', 'ONEW', 'ONEY', 'ONLN', 'ONTO', 'ONTX', 'ONVO', 'OOMA', 'OPBK', 'OPCH', 'OPEN',\n",
    "    'OPEN+', 'OPEN=', 'OPFI', 'OPGN', 'OPHC', 'OPI', 'OPINI', 'OPK', 'OPNT', 'OPOF', 'OPP', 'OPRA', 'OPRX', 'OPT', 'OPTT', 'OPY', 'OR',\n",
    "    'ORA', 'ORAN', 'ORBC', 'ORC', 'ORCC', 'ORCL', 'ORGN', 'ORGO', 'ORGS', 'ORI', 'ORIA', 'ORIC', 'ORLY', 'ORMP', 'ORN', 'ORPH', 'ORRF',\n",
    "    'ORSN', 'ORSNR', 'ORSNU', 'ORSNW', 'ORTX', 'OSBC', 'OSCV', 'OSG', 'OSH', 'OSIS', 'OSK', 'OSLE', 'OSMT', 'OSN', 'OSPN', 'OSS', 'OSTK',\n",
    "    'OSUR', 'OSW', 'OTEC', 'OTEX', 'OTG', 'OTIC', 'OTIS', 'OTLK', 'OTLKW', 'OTRA', 'OTRAU', 'OTRAW', 'OTRK', 'OTRKP', 'OTTR', 'OTTW',\n",
    "    'OUNZ', 'OUSA', 'OUSM', 'OUST', 'OUT', 'OVBC', 'OVID', 'OVL', 'OVLY', 'OVM', 'OVS', 'OVV', 'OWCP', 'OXBR', 'OXBRW', 'OXFD', 'OXLC',\n",
    "    'OXLCM', 'OXLCO', 'OXM', 'OXSQ', 'OXSQL', 'OXSQZ', 'OXY', 'OYST', 'OYSTER', 'OZK', 'OZON', 'PAA', 'PAAC', 'PAACR', 'PAACU', 'PAACW',\n",
    "    'PAAS', 'PAC', 'PACB', 'PACE', 'PACE+', 'PACE=', 'PACK', 'PACK+', 'PACK=', 'PACQ', 'PACQU', 'PACQW', 'PACW', 'PAE', 'PAEWW', 'PAG',\n",
    "    'PAGP', 'PAGS', 'PAHC', 'PAI', 'PAK', 'PALC', 'PALL', 'PAM', 'PAN', 'PANL', 'PANW', 'PAPR', 'PAQC', 'PAQCU', 'PAQCW', 'PAR', 'PARR',\n",
    "    'PASS', 'PATI', 'PATK', 'PAUG', 'PAVE', 'PAVM', 'PAVMW', 'PAWZ', 'PAYS', 'PAYX', 'PB', 'PBA', 'PBB', 'PBC', 'PBCT', 'PBCTP', 'PBD',\n",
    "    'PBDM', 'PBE', 'PBEE', 'PBF', 'PBFS', 'PBFX', 'PBH', 'PBHC', 'PBI', 'PBI-B', 'PBIP', 'PBND', 'PBPB', 'PBR', 'PBR.A', 'PBSM', 'PBSR',\n",
    "    'PBTP', 'PBUS', 'PBW', 'PBY', 'PBYI', 'PCAR', 'PCB', 'PCEF', 'PCF', 'PCG', 'PCG-B', 'PCG-C', 'PCG-D', 'PCG-E', 'PCG-G', 'PCG-H', 'PCG-I',\n",
    "    'PCG.PR.B', 'PCG.PR.C', 'PCG.PR.D', 'PCG.PR.E', 'PCG.PR.G', 'PCG.PR.H', 'PCG.PR.I', 'PCGU', 'PCGWW', 'PCH', 'PCI', 'PCK', 'PCM', 'PCN',\n",
    "    'PCOM', 'PCOR', 'PCPC', 'PCPC.U', 'PCPC.W', 'PCQ', 'PCRX', 'PCSA', 'PCSB', 'PCT', 'PCTI', 'PCTY', 'PCVX', 'PCYG', 'PCYO', 'PD', 'PDAC',\n",
    "    'PDACU', 'PDACW', 'PDCE', 'PDCO', 'PDD', 'PDEX', 'PDFS', 'PDI', 'PDLB', 'PDLI', 'PDM', 'PDO', 'PDOT', 'PDP', 'PDS', 'PDSB', 'PDT',\n",
    "    'PEAK', 'PEB', 'PEBK', 'PEBO', 'PECK', 'PED', 'PEEK', 'PEGA', 'PEGI', 'PEI', 'PEIX', 'PEJ', 'PEN', 'PENN', 'PEO', 'PEP', 'PER',\n",
    "    'PERI', 'PESI', 'PETQ', 'PETS', 'PETZ', 'PFBC', 'PFBI', 'PFC', 'PFD', 'PFDR', 'PFDRU', 'PFDRW', 'PFE', 'PFF', 'PFG', 'PFH', 'PFI',\n",
    "    'PFIE', 'PFIG', 'PFIN', 'PFIS', 'PFL', 'PFLT', 'PFM', 'PFMT', 'PFN', 'PFPT', 'PFS', 'PFSI', 'PFSW', 'PFXF', 'PG', 'PGAL', 'PGC', 'PGJ',\n",
    "    'PGM', 'PGNY', 'PGP', 'PGR', 'PGRE', 'PGTI', 'PGX', 'PGZ', 'PH', 'PHAR', 'PHAS', 'PHAT', 'PHB', 'PHBR', 'PHCF', 'PHD', 'PHDG', 'PHGE',\n",
    "    'PHGE.U', 'PHGE.W', 'PHI', 'PHIC', 'PHICU', 'PHICW', 'PHIO', 'PHIOW', 'PHK', 'PHM', 'PHO', 'PHR', 'PHT', 'PHUN', 'PHUNW', 'PHVS', 'PHX',\n",
    "    'PI', 'PIAI', 'PIC', 'PICB', 'PICK', 'PIC.U', 'PIC.WS', 'PID', 'PIE', 'PIFI', 'PII', 'PILL', 'PIM', 'PIN', 'PINC', 'PINE', 'PING',\n",
    "    'PINS', 'PIO', 'PIPP', 'PIPP+', 'PIPP=', 'PIPR', 'PIPRW', 'PIR', 'PIRS', 'PIXY', 'PIY', 'PIZ', 'PJAN', 'PJAN+', 'PJAN=', 'PJC', 'PJH',\n",
    "    'PJP', 'PJT', 'PJUL', 'PJUL+', 'PJUL=', 'PJUN', 'PJUN+', 'PJUN=', 'PK', 'PKB', 'PKBK', 'PKE', 'PKG', 'PKI', 'PKO', 'PKOH', 'PKW',\n",
    "    'PKX', 'PLAB', 'PLAG', 'PLAN', 'PLAT', 'PLAY', 'PLBC', 'PLBY', 'PLCE', 'PLD', 'PLG', 'PLIN', 'PLL', 'PLM', 'PLMR', 'PLNT', 'PLOW',\n",
    "    'PLPC', 'PLRX', 'PLSE', 'PLTK', 'PLTM', 'PLUG', 'PLUS', 'PLW', 'PLX', 'PLXP', 'PLXS', 'PLYA', 'PLYM', 'PLYM+', 'PLYM=', 'PM', 'PMAR',\n",
    "    'PMAY', 'PMBC', 'PMD', 'PME', 'PMF', 'PML', 'PMM', 'PMO', 'PMOM', 'PMT', 'PMT-A', 'PMT-B', 'PMVC', 'PMVC.U', 'PMVC.WS', 'PMVP', 'PMX',\n",
    "    'PNBK', 'PNC', 'PNC-P', 'PNF', 'PNFP', 'PNFPP', 'PNG', 'PNGAY', 'PNM', 'PNNT', 'PNNTG', 'PNO', 'PNQI', 'PNR', 'PNRG', 'PNT', 'PNTG',\n",
    "    'PNW', 'POAI', 'PODD', 'POLA', 'POOL', 'POR', 'POST', 'POTX', 'POWI', 'POWL', 'PPA', 'PPBI', 'PPBT', 'PPC', 'PPD', 'PPG', 'PPH', 'PPIH',\n",
    "    'PPL', 'PPLC', 'PPLN', 'PPLT', 'PPMC', 'PPR', 'PPSC', 'PPT', 'PPX', 'PQDI', 'PQIN', 'PQLC', 'PQSG', 'PQSV', 'PRA', 'PRAA', 'PRAH',\n",
    "    'PRAX', 'PRCP', 'PRDO', 'PRE-F', 'PRE-G', 'PRE-H', 'PRE-I', 'PREF', 'PRF', 'PRFT', 'PRFZ', 'PRGO', 'PRGS', 'PRI', 'PRIF-A', 'PRIF-B',\n",
    "    'PRIF-C', 'PRIF-D', 'PRIF-E', 'PRIF-F', 'PRIM', 'PRK', 'PRLB', 'PRMW', 'PRN', 'PRNB', 'PRNT', 'PRO', 'PROF', 'PROG', 'PROS', 'PROV',\n",
    "    'PRPB', 'PRPH', 'PRPL', 'PRPO', 'PRQR', 'PRS', 'PRSC', 'PRSR', 'PRT', 'PRTA', 'PRTC', 'PRTG', 'PRTH', 'PRTK', 'PRTM', 'PRTO', 'PRTS',\n",
    "    'PRTY', 'PRU', 'PRVB', 'PRVL', 'PS', 'PSA', 'PSA-A', 'PSA-B', 'PSA-C', 'PSA-D', 'PSA-E', 'PSA-F', 'PSA-G', 'PSA-H', 'PSA-I', 'PSA-J',\n",
    "    'PSA-K', 'PSA-L', 'PSA-M', 'PSA-N', 'PSA-O', 'PSA-P', 'PSA-Q', 'PSA-R', 'PSA-S', 'PSA-T', 'PSA-U', 'PSA-V', 'PSA-W', 'PSA-X', 'PSA-Y',\n",
    "    'PSA-Z', 'PSA.PR.A', 'PSA.PR.B', 'PSA.PR.C', 'PSA.PR.D', 'PSA.PR.E', 'PSA.PR.F', 'PSA.PR.G', 'PSA.PR.H', 'PSA.PR.I', 'PSA.PR.J', 'PSA.PR.K',\n",
    "    'PSA.PR.L', 'PSA.PR.M', 'PSA.PR.N', 'PSA.PR.O', 'PSA.PR.P', 'PSA.PR.Q', 'PSA.PR.R', 'PSA.PR.S', 'PSA.PR.T', 'PSA.PR.U', 'PSA.PR.V', 'PSA.PR.W',\n",
    "    'PSA.PR.X', 'PSA.PR.Y', 'PSA.PR.Z', 'PSA-U', 'PSA-V', 'PSA-W', 'PSA-X', 'PSA-Y', 'PSA-Z', 'PSB', 'PSB-W', 'PSB-X', 'PSB-Y', 'PSC', 'PSCC',\n",
    "    'PSCD', 'PSCE', 'PSCF', 'PSCH', 'PSCI', 'PSCM', 'PSCT', 'PSCU', 'PSCX', 'PSDO', 'PSDV', 'PSEC', 'PSET', 'PSF', 'PSHG', 'PSI', 'PSJ',\n",
    "    'PSK', 'PSL', 'PSLV', 'PSM', 'PSMB', 'PSMC', 'PSMG', 'PSMM', 'PSMT', 'PSN', 'PSNL', 'PSO', 'PSP', 'PSQ', 'PSR', 'PST', 'PSTG', 'PSTH',\n",
    "    'PSTHU', 'PSTHW', 'PSTI', 'PSTL', 'PSTV', 'PSTX', 'PSX', 'PSXP', 'PT', 'PTAC', 'PTACU', 'PTACW', 'PTBD', 'PTC', 'PTCT', 'PTE', 'PTEN',\n",
    "    'PTEU', 'PTF', 'PTGX', 'PTH', 'PTIC', 'PTICU', 'PTICW', 'PTIN', 'PTLC', 'PTMC', 'PTMN', 'PTN', 'PTNQ', 'PTNR', 'PTOC', 'PTON', 'PTPI',\n",
    "    'PTR', 'PTSI', 'PTVCA', 'PTVCB', 'PTVE', 'PTY', 'PUBM', 'PUC', 'PUK', 'PUK-A', 'PULM', 'PULS', 'PUMP', 'PUTW', 'PUYI', 'PV', 'PVAC',\n",
    "    'PVAL', 'PVBC', 'PVG', 'PVH', 'PVI', 'PVIV', 'PVL', 'PW', 'PW-A', 'PWFL', 'PWOD', 'PWR', 'PWSC', 'PWV', 'PWZ', 'PXI', 'PXLG', 'PXMG',\n",
    "    'PXQ', 'PXS', 'PY', 'PYD', 'PYN', 'PYPE', 'PYPL', 'PYS', 'PYT', 'PYZ', 'PZA', 'PZC', 'PZD', 'PZE', 'PZG', 'PZI', 'PZN', 'PZZA', 'QABA',\n",
    "    'QADA', 'QADB', 'QAI', 'QARP', 'QAT', 'QAUS', 'QAUT', 'QCLN', 'QCOM', 'QDEC', 'QDEF', 'QDEL', 'QDEN', 'QDF', 'QDIV', 'QDYN', 'QED', 'QEFA',\n",
    "    'QEMM', 'QFIN', 'QFTA', 'QGEN', 'QGRO', 'QGTA', 'QGRO+', 'QGRO=', 'QHC', 'QID', 'QINT', 'QIWI', 'QJUN', 'QJUN+', 'QJUN=', 'QLC', 'QLD',\n",
    "    'QLS', 'QLTA', 'QLV', 'QLVD', 'QLVE', 'QLVF', 'QLVU', 'QLVW', 'QLW', 'QLYS', 'QMCO', 'QMOM', 'QNST', 'QQD', 'QQEW', 'QQH', 'QQQ',\n",
    "    'QQQE', 'QQQJ', 'QQQX', 'QQXT', 'QRFT', 'QRHC', 'QRTEA', 'QRTEB', 'QRTEP', 'QRVO', 'QRWR', 'QRXM', 'QRXP', 'QRXPW', 'QSEP', 'QSR',\n",
    "    'QSY', 'QTAP', 'QTUM', 'QTWO', 'QUAD', 'QUAL', 'QUAN', 'QUE.U', 'QUE.WS', 'QUEX', 'QUIK', 'QULL', 'QUMU', 'QVAL', 'QVCD', 'QWLD',\n",
    "    'QYLG', 'R', 'RA', 'RAAC', 'RAACU', 'RAACW', 'RAAX', 'RACB', 'RACE', 'RAD', 'RADA', 'RAFE', 'RAIL', 'RAJA', 'RAJD', 'RAK', 'RALI',\n",
    "    'RALS', 'RAMM', 'RAMP', 'RAND', 'RANI', 'RAVE', 'RAVN', 'RAYT', 'RBA', 'RBAC', 'RBACU', 'RBACW', 'RBKB', 'RBLX', 'RBNC', 'RBND', 'RBUS',\n",
    "    'RC', 'RC-G', 'RCA', 'RCB', 'RCDA', 'RCEL', 'RCHG', 'RCHGU', 'RCHGW', 'RCI', 'RCII', 'RCKT', 'RCKY', 'RCL', 'RCM', 'RCMT', 'RCON',\n",
    "    'RCOR', 'RCP', 'RCP.U', 'RCP.WS', 'RCPH', 'RCUS', 'RDA', 'RDCM', 'RDFI', 'RDHL', 'RDI', 'RDIB', 'RDIV', 'RDN', 'RDNT', 'RDOG', 'RDUS',\n",
    "    'RDVT', 'RDVY', 'RDWR', 'RDY', 'RE', 'REAX', 'REAXU', 'REAXW', 'RECS', 'REDM', 'REED', 'REEE', 'REET', 'REFA', 'REGL', 'REGN', 'REI',\n",
    "    'REK', 'REKR', 'RELI', 'RELL', 'REM', 'REMX', 'RENN', 'REPH', 'REPL', 'REPS', 'REPX', 'RES', 'RESI', 'RESN', 'RETA', 'RETL', 'RETO',\n",
    "    'RETS', 'REV', 'REVG', 'REVS', 'REW', 'REX', 'REXR', 'REXN', 'REYN', 'REZ', 'REZI', 'RF', 'RF-A', 'RF-B', 'RF-C', 'RF-E', 'RF-G', 'RF-H',\n",
    "    'RFAP', 'RFDA', 'RFEM', 'RFFC', 'RFFI', 'RFG', 'RFI', 'RFIL', 'RFM', 'RFMZ', 'RFNC', 'RFUN', 'RFV', 'RGA', 'RGCO', 'RGEN', 'RGGI',\n",
    "    'RGI', 'RGLD', 'RGLS', 'RGNX', 'RGP', 'RGR', 'RGRA', 'RGT', 'RH', 'RHE', 'RHE-A', 'RHI', 'RHP', 'RHS', 'RIBT', 'RICK', 'RIF', 'RIG',\n",
    "    'RIGL', 'RIGS', 'RILY', 'RILYG', 'RILYH', 'RILYI', 'RILYM', 'RILYN', 'RILYP', 'RILYZ', 'RINF', 'RING', 'RIO', 'RIOT', 'RIT', 'RIV',\n",
    "    'RIVE', 'RJA', 'RJF', 'RJI', 'RJN', 'RJZ', 'RKDA', 'RL', 'RLAY', 'RLGT', 'RLGY', 'RLH', 'RLI', 'RLJ', 'RLJ-A', 'RLMD', 'RLX', 'RM',\n",
    "    'RMAX', 'RMBI', 'RMBL', 'RMBS', 'RMC', 'RMCF', 'RMD', 'RMED', 'RMG', 'RMGB', 'RMGBU', 'RMGBW', 'RMGC', 'RMGC+', 'RMGC=', 'RMGCU', 'RMGCW',\n",
    "    'RMI', 'RMM', 'RMNI', 'RMO', 'RMO.WS', 'RMO.Z', 'RMR', 'RMT', 'RMTI', 'RNA', 'RNDB', 'RNDM', 'RNDV', 'RNDX', 'RNEM', 'RNET', 'RNG',\n",
    "    'RNGR', 'RNLC', 'RNMC', 'RNP', 'RNR', 'RNR-F', 'RNSC', 'RNST', 'RNW', 'ROAM', 'ROBT', 'ROCK', 'RODI', 'RODM', 'ROG', 'ROIC', 'ROK',\n",
    "    'ROKT', 'ROL', 'ROLL', 'ROM', 'ROMO', 'ROOF', 'ROP', 'RORE', 'ROSC', 'ROSCU', 'ROSCW', 'ROSE', 'ROSEU', 'ROSEW', 'ROST', 'ROUS',\n",
    "    'ROX', 'ROYT', 'ROYTL', 'ROYTU', 'ROYTW', 'RP', 'RPAI', 'RPAY', 'RPD', 'RPLA', 'RPLA+', 'RPLA=', 'RPM', 'RPV', 'RQI', 'RRBI', 'RRC',\n",
    "    'RRD', 'RRGB', 'RRR', 'RS', 'RSF', 'RSG', 'RSP', 'RST', 'RSX', 'RSXJ', 'RTAI', 'RTH', 'RTLR', 'RTM', 'RTP', 'RTPY', 'RTPZ', 'RTX',\n",
    "    'RUBI', 'RUBY', 'RUBY+', 'RUBY=', 'RUHN', 'RUN', 'RUSL', 'RUTH', 'RVAC', 'RVB', 'RVI', 'RVLV', 'RVMD', 'RVNC', 'RVNU', 'RVP', 'RVPH',\n",
    "    'RVPHW', 'RVSB', 'RVT', 'RWCD', 'RWDE', 'RWED', 'RWGV', 'RWIU', 'RWJ', 'RWK', 'RWL', 'RWLK', 'RWM', 'RWO', 'RWR', 'RWT', 'RWUI', 'RWVG',\n",
    "    'RWVU', 'RXD', 'RXI', 'RXII', 'RXL', 'RXN', 'RXT', 'RY', 'RYAM', 'RYAM-A', 'RYAM-B', 'RYAM-P', 'RYCE', 'RYI', 'RYJ', 'RYN', 'RYT',\n",
    "    'RYTM', 'RYU', 'RZA', 'RZB', 'RZG', 'RZV', 'S', 'S-AA', 'S-AAB', 'S-AAC', 'S-AAA', 'S-AAB', 'S-AAC', 'S-AAD', 'S-AAE', 'S-AAF', 'S-AAG']\n",
    "len(liste_combinee)"
   ]
  },
  {
   "cell_type": "code",
   "execution_count": 2,
   "metadata": {},
   "outputs": [
    {
     "name": "stdout",
     "output_type": "stream",
     "text": [
      "[*********************100%%**********************]  1 of 1 completed\n",
      "[*********************100%%**********************]  1 of 1 completed\n",
      "[*********************100%%**********************]  1 of 1 completed\n",
      "[*********************100%%**********************]  1 of 1 completed\n",
      "[*********************100%%**********************]  1 of 1 completed\n",
      "[*********************100%%**********************]  1 of 1 completed\n",
      "[*********************100%%**********************]  1 of 1 completed\n",
      "[*********************100%%**********************]  1 of 1 completed\n",
      "[*********************100%%**********************]  1 of 1 completed\n",
      "[*********************100%%**********************]  1 of 1 completed\n",
      "[*********************100%%**********************]  1 of 1 completed\n",
      "[*********************100%%**********************]  1 of 1 completed\n",
      "[*********************100%%**********************]  1 of 1 completed\n",
      "[*********************100%%**********************]  1 of 1 completed"
     ]
    },
    {
     "name": "stderr",
     "output_type": "stream",
     "text": [
      "\n",
      "1 Failed download:\n",
      "['AJG']: Exception('%ticker%: No price data found, symbol may be delisted (period=1y)')\n"
     ]
    },
    {
     "name": "stdout",
     "output_type": "stream",
     "text": [
      "\n",
      "[*********************100%%**********************]  1 of 1 completed\n",
      "[*********************100%%**********************]  1 of 1 completed\n",
      "[*********************100%%**********************]  1 of 1 completed\n",
      "[*********************100%%**********************]  1 of 1 completed\n",
      "[*********************100%%**********************]  1 of 1 completed\n",
      "[*********************100%%**********************]  1 of 1 completed"
     ]
    },
    {
     "name": "stderr",
     "output_type": "stream",
     "text": [
      "\n",
      "1 Failed download:\n",
      "['ALLE']: Exception('%ticker%: No price data found, symbol may be delisted (period=1y)')\n"
     ]
    },
    {
     "name": "stdout",
     "output_type": "stream",
     "text": [
      "\n",
      "[*********************100%%**********************]  1 of 1 completed\n",
      "[*********************100%%**********************]  1 of 1 completed\n",
      "[*********************100%%**********************]  1 of 1 completed\n",
      "[*********************100%%**********************]  1 of 1 completed\n",
      "[*********************100%%**********************]  1 of 1 completed"
     ]
    },
    {
     "name": "stderr",
     "output_type": "stream",
     "text": [
      "\n",
      "1 Failed download:\n",
      "['AMGN']: Exception('%ticker%: No price data found, symbol may be delisted (period=1y)')\n"
     ]
    },
    {
     "name": "stdout",
     "output_type": "stream",
     "text": [
      "\n",
      "[*********************100%%**********************]  1 of 1 completed\n",
      "[*********************100%%**********************]  1 of 1 completed\n",
      "[*********************100%%**********************]  1 of 1 completed\n",
      "[*********************100%%**********************]  1 of 1 completed\n",
      "[*********************100%%**********************]  1 of 1 completed\n",
      "[*********************100%%**********************]  1 of 1 completed"
     ]
    },
    {
     "name": "stderr",
     "output_type": "stream",
     "text": [
      "\n",
      "1 Failed download:\n",
      "['ANTM']: Exception('%ticker%: No data found, symbol may be delisted')\n"
     ]
    },
    {
     "name": "stdout",
     "output_type": "stream",
     "text": [
      "\n",
      "[*********************100%%**********************]  1 of 1 completed\n",
      "[*********************100%%**********************]  1 of 1 completed\n",
      "[*********************100%%**********************]  1 of 1 completed\n",
      "[*********************100%%**********************]  1 of 1 completed\n",
      "[*********************100%%**********************]  1 of 1 completed\n",
      "[*********************100%%**********************]  1 of 1 completed\n",
      "[*********************100%%**********************]  1 of 1 completed\n",
      "[*********************100%%**********************]  1 of 1 completed\n",
      "[*********************100%%**********************]  1 of 1 completed\n",
      "[*********************100%%**********************]  1 of 1 completed\n",
      "[*********************100%%**********************]  1 of 1 completed\n",
      "[*********************100%%**********************]  1 of 1 completed\n",
      "[*********************100%%**********************]  1 of 1 completed\n",
      "[*********************100%%**********************]  1 of 1 completed\n",
      "[*********************100%%**********************]  1 of 1 completed\n",
      "[*********************100%%**********************]  1 of 1 completed\n",
      "[*********************100%%**********************]  1 of 1 completed\n",
      "[*********************100%%**********************]  1 of 1 completed\n",
      "[*********************100%%**********************]  1 of 1 completed\n",
      "[*********************100%%**********************]  1 of 1 completed\n",
      "[*********************100%%**********************]  1 of 1 completed\n",
      "[*********************100%%**********************]  1 of 1 completed\n",
      "[*********************100%%**********************]  1 of 1 completed\n",
      "[*********************100%%**********************]  1 of 1 completed\n",
      "[*********************100%%**********************]  1 of 1 completed\n",
      "[*********************100%%**********************]  1 of 1 completed\n",
      "[*********************100%%**********************]  1 of 1 completed\n",
      "[*********************100%%**********************]  1 of 1 completed"
     ]
    },
    {
     "name": "stderr",
     "output_type": "stream",
     "text": [
      "\n",
      "1 Failed download:\n",
      "['BLL']: Exception('%ticker%: No data found, symbol may be delisted')\n"
     ]
    },
    {
     "name": "stdout",
     "output_type": "stream",
     "text": [
      "\n",
      "[*********************100%%**********************]  1 of 1 completed\n",
      "[*********************100%%**********************]  1 of 1 completed\n",
      "[*********************100%%**********************]  1 of 1 completed"
     ]
    },
    {
     "name": "stderr",
     "output_type": "stream",
     "text": [
      "\n",
      "1 Failed download:\n",
      "['BRK.B']: Exception('%ticker%: No data found, symbol may be delisted')\n"
     ]
    },
    {
     "name": "stdout",
     "output_type": "stream",
     "text": [
      "\n",
      "[*********************100%%**********************]  1 of 1 completed\n",
      "[*********************100%%**********************]  1 of 1 completed\n",
      "[*********************100%%**********************]  1 of 1 completed\n",
      "[*********************100%%**********************]  1 of 1 completed\n",
      "[*********************100%%**********************]  1 of 1 completed\n",
      "[*********************100%%**********************]  1 of 1 completed\n",
      "[*********************100%%**********************]  1 of 1 completed\n",
      "[*********************100%%**********************]  1 of 1 completed\n",
      "[*********************100%%**********************]  1 of 1 completed\n",
      "[*********************100%%**********************]  1 of 1 completed"
     ]
    },
    {
     "name": "stderr",
     "output_type": "stream",
     "text": [
      "\n",
      "1 Failed download:\n",
      "['CBOE']: Exception('%ticker%: No price data found, symbol may be delisted (period=1y)')\n"
     ]
    },
    {
     "name": "stdout",
     "output_type": "stream",
     "text": [
      "\n",
      "[*********************100%%**********************]  1 of 1 completed\n",
      "[*********************100%%**********************]  1 of 1 completed\n",
      "[*********************100%%**********************]  1 of 1 completed\n",
      "[*********************100%%**********************]  1 of 1 completed\n",
      "[*********************100%%**********************]  1 of 1 completed\n",
      "[*********************100%%**********************]  1 of 1 completed\n",
      "[*********************100%%**********************]  1 of 1 completed"
     ]
    },
    {
     "name": "stderr",
     "output_type": "stream",
     "text": [
      "\n",
      "1 Failed download:\n",
      "['CERN']: Exception('%ticker%: No data found, symbol may be delisted')\n"
     ]
    },
    {
     "name": "stdout",
     "output_type": "stream",
     "text": [
      "\n",
      "[*********************100%%**********************]  1 of 1 completed\n",
      "[*********************100%%**********************]  1 of 1 completed\n",
      "[*********************100%%**********************]  1 of 1 completed\n",
      "[*********************100%%**********************]  1 of 1 completed\n",
      "[*********************100%%**********************]  1 of 1 completed\n",
      "[*********************100%%**********************]  1 of 1 completed\n",
      "[*********************100%%**********************]  1 of 1 completed\n",
      "[*********************100%%**********************]  1 of 1 completed\n",
      "[*********************100%%**********************]  1 of 1 completed"
     ]
    },
    {
     "name": "stderr",
     "output_type": "stream",
     "text": [
      "\n",
      "1 Failed download:\n",
      "['CLX']: Exception('%ticker%: No price data found, symbol may be delisted (period=1y)')\n"
     ]
    },
    {
     "name": "stdout",
     "output_type": "stream",
     "text": [
      "\n",
      "[*********************100%%**********************]  1 of 1 completed\n",
      "[*********************100%%**********************]  1 of 1 completed\n",
      "[*********************100%%**********************]  1 of 1 completed\n",
      "[*********************100%%**********************]  1 of 1 completed\n",
      "[*********************100%%**********************]  1 of 1 completed"
     ]
    },
    {
     "name": "stderr",
     "output_type": "stream",
     "text": [
      "\n",
      "1 Failed download:\n",
      "['CMI']: Exception('%ticker%: No price data found, symbol may be delisted (period=1y)')\n"
     ]
    },
    {
     "name": "stdout",
     "output_type": "stream",
     "text": [
      "\n",
      "[*********************100%%**********************]  1 of 1 completed"
     ]
    },
    {
     "name": "stderr",
     "output_type": "stream",
     "text": [
      "\n",
      "1 Failed download:\n",
      "['CMS']: Exception('%ticker%: No price data found, symbol may be delisted (period=1y)')\n"
     ]
    },
    {
     "name": "stdout",
     "output_type": "stream",
     "text": [
      "\n",
      "[*********************100%%**********************]  1 of 1 completed\n",
      "[*********************100%%**********************]  1 of 1 completed\n",
      "[*********************100%%**********************]  1 of 1 completed\n",
      "[*********************100%%**********************]  1 of 1 completed"
     ]
    },
    {
     "name": "stderr",
     "output_type": "stream",
     "text": [
      "\n",
      "1 Failed download:\n",
      "['COG']: Exception('%ticker%: No data found, symbol may be delisted')\n"
     ]
    },
    {
     "name": "stdout",
     "output_type": "stream",
     "text": [
      "\n",
      "[*********************100%%**********************]  1 of 1 completed"
     ]
    },
    {
     "name": "stderr",
     "output_type": "stream",
     "text": [
      "\n",
      "1 Failed download:\n",
      "['COO']: Exception('%ticker%: No price data found, symbol may be delisted (period=1y)')\n"
     ]
    },
    {
     "name": "stdout",
     "output_type": "stream",
     "text": [
      "\n",
      "[*********************100%%**********************]  1 of 1 completed\n",
      "[*********************100%%**********************]  1 of 1 completed\n",
      "[*********************100%%**********************]  1 of 1 completed"
     ]
    },
    {
     "name": "stderr",
     "output_type": "stream",
     "text": [
      "\n",
      "1 Failed download:\n",
      "['CPB']: Exception('%ticker%: No price data found, symbol may be delisted (period=1y)')\n"
     ]
    },
    {
     "name": "stdout",
     "output_type": "stream",
     "text": [
      "\n",
      "[*********************100%%**********************]  1 of 1 completed\n",
      "[*********************100%%**********************]  1 of 1 completed\n",
      "[*********************100%%**********************]  1 of 1 completed\n",
      "[*********************100%%**********************]  1 of 1 completed\n",
      "[*********************100%%**********************]  1 of 1 completed\n",
      "[*********************100%%**********************]  1 of 1 completed\n",
      "[*********************100%%**********************]  1 of 1 completed\n",
      "[*********************100%%**********************]  1 of 1 completed\n",
      "[*********************100%%**********************]  1 of 1 completed"
     ]
    },
    {
     "name": "stderr",
     "output_type": "stream",
     "text": [
      "\n",
      "1 Failed download:\n",
      "['CTXS']: Exception('%ticker%: No data found, symbol may be delisted')\n"
     ]
    },
    {
     "name": "stdout",
     "output_type": "stream",
     "text": [
      "\n",
      "[*********************100%%**********************]  1 of 1 completed\n",
      "[*********************100%%**********************]  1 of 1 completed\n",
      "[*********************100%%**********************]  1 of 1 completed\n",
      "[*********************100%%**********************]  1 of 1 completed\n",
      "[*********************100%%**********************]  1 of 1 completed\n",
      "[*********************100%%**********************]  1 of 1 completed\n",
      "[*********************100%%**********************]  1 of 1 completed\n",
      "[*********************100%%**********************]  1 of 1 completed\n",
      "[*********************100%%**********************]  1 of 1 completed\n",
      "[*********************100%%**********************]  1 of 1 completed\n",
      "[*********************100%%**********************]  1 of 1 completed\n",
      "[*********************100%%**********************]  1 of 1 completed\n",
      "[*********************100%%**********************]  1 of 1 completed\n",
      "[*********************100%%**********************]  1 of 1 completed"
     ]
    },
    {
     "name": "stderr",
     "output_type": "stream",
     "text": [
      "\n",
      "1 Failed download:\n",
      "['DISCA']: Exception('%ticker%: No data found, symbol may be delisted')\n"
     ]
    },
    {
     "name": "stdout",
     "output_type": "stream",
     "text": [
      "\n",
      "[*********************100%%**********************]  1 of 1 completed"
     ]
    },
    {
     "name": "stderr",
     "output_type": "stream",
     "text": [
      "\n",
      "1 Failed download:\n",
      "['DISCK']: Exception('%ticker%: No data found, symbol may be delisted')\n"
     ]
    },
    {
     "name": "stdout",
     "output_type": "stream",
     "text": [
      "\n",
      "[*********************100%%**********************]  1 of 1 completed\n",
      "[*********************100%%**********************]  1 of 1 completed\n",
      "[*********************100%%**********************]  1 of 1 completed\n",
      "[*********************100%%**********************]  1 of 1 completed\n"
     ]
    },
    {
     "name": "stderr",
     "output_type": "stream",
     "text": [
      "Failed to get ticker 'DRE' reason: HTTPSConnectionPool(host='query2.finance.yahoo.com', port=443): Read timed out. (read timeout=10)\n"
     ]
    },
    {
     "name": "stdout",
     "output_type": "stream",
     "text": [
      "[*********************100%%**********************]  1 of 1 completed"
     ]
    },
    {
     "name": "stderr",
     "output_type": "stream",
     "text": [
      "\n",
      "1 Failed download:\n",
      "['DRE']: Exception('%ticker%: No data found, symbol may be delisted')\n"
     ]
    },
    {
     "name": "stdout",
     "output_type": "stream",
     "text": [
      "\n",
      "[*********************100%%**********************]  1 of 1 completed\n",
      "[*********************100%%**********************]  1 of 1 completed\n",
      "[*********************100%%**********************]  1 of 1 completed\n",
      "[*********************100%%**********************]  1 of 1 completed\n",
      "[*********************100%%**********************]  1 of 1 completed\n",
      "[*********************100%%**********************]  1 of 1 completed\n",
      "[*********************100%%**********************]  1 of 1 completed\n",
      "[*********************100%%**********************]  1 of 1 completed\n",
      "[*********************100%%**********************]  1 of 1 completed\n",
      "[*********************100%%**********************]  1 of 1 completed\n",
      "[*********************100%%**********************]  1 of 1 completed\n",
      "[*********************100%%**********************]  1 of 1 completed\n",
      "[*********************100%%**********************]  1 of 1 completed"
     ]
    },
    {
     "name": "stderr",
     "output_type": "stream",
     "text": [
      "\n",
      "1 Failed download:\n",
      "['EIX']: Exception('%ticker%: No price data found, symbol may be delisted (period=1y)')\n"
     ]
    },
    {
     "name": "stdout",
     "output_type": "stream",
     "text": [
      "\n",
      "[*********************100%%**********************]  1 of 1 completed\n",
      "[*********************100%%**********************]  1 of 1 completed\n",
      "[*********************100%%**********************]  1 of 1 completed\n",
      "[*********************100%%**********************]  1 of 1 completed\n",
      "[*********************100%%**********************]  1 of 1 completed\n",
      "[*********************100%%**********************]  1 of 1 completed\n",
      "[*********************100%%**********************]  1 of 1 completed\n",
      "[*********************100%%**********************]  1 of 1 completed\n",
      "[*********************100%%**********************]  1 of 1 completed\n",
      "[*********************100%%**********************]  1 of 1 completed\n",
      "[*********************100%%**********************]  1 of 1 completed\n",
      "[*********************100%%**********************]  1 of 1 completed\n",
      "[*********************100%%**********************]  1 of 1 completed\n",
      "[*********************100%%**********************]  1 of 1 completed\n",
      "[*********************100%%**********************]  1 of 1 completed\n",
      "[*********************100%%**********************]  1 of 1 completed\n",
      "[*********************100%%**********************]  1 of 1 completed\n",
      "[*********************100%%**********************]  1 of 1 completed\n",
      "[*********************100%%**********************]  1 of 1 completed\n",
      "[*********************100%%**********************]  1 of 1 completed\n",
      "[*********************100%%**********************]  1 of 1 completed"
     ]
    },
    {
     "name": "stderr",
     "output_type": "stream",
     "text": [
      "\n",
      "1 Failed download:\n",
      "['FB']: Exception('%ticker%: No data found, symbol may be delisted')\n"
     ]
    },
    {
     "name": "stdout",
     "output_type": "stream",
     "text": [
      "\n",
      "[*********************100%%**********************]  1 of 1 completed"
     ]
    },
    {
     "name": "stderr",
     "output_type": "stream",
     "text": [
      "\n",
      "1 Failed download:\n",
      "['FBHS']: Exception('%ticker%: No data found, symbol may be delisted')\n"
     ]
    },
    {
     "name": "stdout",
     "output_type": "stream",
     "text": [
      "\n",
      "[*********************100%%**********************]  1 of 1 completed\n",
      "[*********************100%%**********************]  1 of 1 completed\n",
      "[*********************100%%**********************]  1 of 1 completed\n",
      "[*********************100%%**********************]  1 of 1 completed\n",
      "[*********************100%%**********************]  1 of 1 completed\n",
      "[*********************100%%**********************]  1 of 1 completed"
     ]
    },
    {
     "name": "stderr",
     "output_type": "stream",
     "text": [
      "\n",
      "1 Failed download:\n",
      "['FISV']: Exception('%ticker%: No data found, symbol may be delisted')\n"
     ]
    },
    {
     "name": "stdout",
     "output_type": "stream",
     "text": [
      "\n",
      "[*********************100%%**********************]  1 of 1 completed\n",
      "[*********************100%%**********************]  1 of 1 completed"
     ]
    },
    {
     "name": "stderr",
     "output_type": "stream",
     "text": [
      "\n",
      "1 Failed download:\n",
      "['FLIR']: Exception('%ticker%: No data found, symbol may be delisted')\n"
     ]
    },
    {
     "name": "stdout",
     "output_type": "stream",
     "text": [
      "\n",
      "[*********************100%%**********************]  1 of 1 completed\n",
      "[*********************100%%**********************]  1 of 1 completed\n",
      "[*********************100%%**********************]  1 of 1 completed\n",
      "[*********************100%%**********************]  1 of 1 completed\n",
      "[*********************100%%**********************]  1 of 1 completed\n",
      "[*********************100%%**********************]  1 of 1 completed\n",
      "[*********************100%%**********************]  1 of 1 completed\n",
      "[*********************100%%**********************]  1 of 1 completed\n",
      "[*********************100%%**********************]  1 of 1 completed\n",
      "[*********************100%%**********************]  1 of 1 completed\n",
      "[*********************100%%**********************]  1 of 1 completed\n",
      "[*********************100%%**********************]  1 of 1 completed\n",
      "[*********************100%%**********************]  1 of 1 completed\n",
      "[*********************100%%**********************]  1 of 1 completed\n",
      "[*********************100%%**********************]  1 of 1 completed\n",
      "[*********************100%%**********************]  1 of 1 completed\n",
      "[*********************100%%**********************]  1 of 1 completed\n",
      "[*********************100%%**********************]  1 of 1 completed\n",
      "[*********************100%%**********************]  1 of 1 completed\n",
      "[*********************100%%**********************]  1 of 1 completed\n",
      "[*********************100%%**********************]  1 of 1 completed\n",
      "[*********************100%%**********************]  1 of 1 completed\n",
      "[*********************100%%**********************]  1 of 1 completed\n",
      "[*********************100%%**********************]  1 of 1 completed\n",
      "[*********************100%%**********************]  1 of 1 completed\n",
      "[*********************100%%**********************]  1 of 1 completed\n",
      "[*********************100%%**********************]  1 of 1 completed\n",
      "[*********************100%%**********************]  1 of 1 completed\n",
      "[*********************100%%**********************]  1 of 1 completed\n",
      "[*********************100%%**********************]  1 of 1 completed\n",
      "[*********************100%%**********************]  1 of 1 completed\n",
      "[*********************100%%**********************]  1 of 1 completed\n",
      "[*********************100%%**********************]  1 of 1 completed\n",
      "[*********************100%%**********************]  1 of 1 completed\n",
      "[*********************100%%**********************]  1 of 1 completed\n",
      "[*********************100%%**********************]  1 of 1 completed\n",
      "[*********************100%%**********************]  1 of 1 completed\n",
      "[*********************100%%**********************]  1 of 1 completed\n",
      "[*********************100%%**********************]  1 of 1 completed\n",
      "[*********************100%%**********************]  1 of 1 completed\n",
      "[*********************100%%**********************]  1 of 1 completed\n",
      "[*********************100%%**********************]  1 of 1 completed\n",
      "[*********************100%%**********************]  1 of 1 completed\n",
      "[*********************100%%**********************]  1 of 1 completed\n",
      "[*********************100%%**********************]  1 of 1 completed\n",
      "[*********************100%%**********************]  1 of 1 completed\n",
      "[*********************100%%**********************]  1 of 1 completed\n",
      "[*********************100%%**********************]  1 of 1 completed"
     ]
    },
    {
     "name": "stderr",
     "output_type": "stream",
     "text": [
      "\n",
      "1 Failed download:\n",
      "['INFO']: Exception('%ticker%: No data found, symbol may be delisted')\n"
     ]
    },
    {
     "name": "stdout",
     "output_type": "stream",
     "text": [
      "\n",
      "[*********************100%%**********************]  1 of 1 completed\n",
      "[*********************100%%**********************]  1 of 1 completed\n",
      "[*********************100%%**********************]  1 of 1 completed\n",
      "[*********************100%%**********************]  1 of 1 completed\n",
      "[*********************100%%**********************]  1 of 1 completed\n",
      "[*********************100%%**********************]  1 of 1 completed\n",
      "[*********************100%%**********************]  1 of 1 completed\n",
      "[*********************100%%**********************]  1 of 1 completed\n",
      "[*********************100%%**********************]  1 of 1 completed\n",
      "[*********************100%%**********************]  1 of 1 completed\n",
      "[*********************100%%**********************]  1 of 1 completed\n",
      "[*********************100%%**********************]  1 of 1 completed\n",
      "[*********************100%%**********************]  1 of 1 completed\n",
      "[*********************100%%**********************]  1 of 1 completed\n",
      "[*********************100%%**********************]  1 of 1 completed\n",
      "[*********************100%%**********************]  1 of 1 completed\n",
      "[*********************100%%**********************]  1 of 1 completed\n",
      "[*********************100%%**********************]  1 of 1 completed\n",
      "[*********************100%%**********************]  1 of 1 completed\n",
      "[*********************100%%**********************]  1 of 1 completed\n",
      "[*********************100%%**********************]  1 of 1 completed\n",
      "[*********************100%%**********************]  1 of 1 completed\n",
      "[*********************100%%**********************]  1 of 1 completed\n",
      "[*********************100%%**********************]  1 of 1 completed\n",
      "[*********************100%%**********************]  1 of 1 completed\n",
      "[*********************100%%**********************]  1 of 1 completed\n",
      "[*********************100%%**********************]  1 of 1 completed\n",
      "[*********************100%%**********************]  1 of 1 completed\n",
      "[*********************100%%**********************]  1 of 1 completed\n",
      "[*********************100%%**********************]  1 of 1 completed\n",
      "[*********************100%%**********************]  1 of 1 completed"
     ]
    },
    {
     "name": "stderr",
     "output_type": "stream",
     "text": [
      "\n",
      "1 Failed download:\n",
      "['KSU']: Exception('%ticker%: No data found, symbol may be delisted')\n"
     ]
    },
    {
     "name": "stdout",
     "output_type": "stream",
     "text": [
      "\n",
      "[*********************100%%**********************]  1 of 1 completed\n",
      "[*********************100%%**********************]  1 of 1 completed"
     ]
    },
    {
     "name": "stderr",
     "output_type": "stream",
     "text": [
      "\n",
      "1 Failed download:\n",
      "['LB']: Exception('%ticker%: No data found, symbol may be delisted')\n"
     ]
    },
    {
     "name": "stdout",
     "output_type": "stream",
     "text": [
      "\n",
      "[*********************100%%**********************]  1 of 1 completed\n",
      "[*********************100%%**********************]  1 of 1 completed\n",
      "[*********************100%%**********************]  1 of 1 completed\n",
      "[*********************100%%**********************]  1 of 1 completed\n",
      "[*********************100%%**********************]  1 of 1 completed\n",
      "[*********************100%%**********************]  1 of 1 completed\n",
      "[*********************100%%**********************]  1 of 1 completed\n",
      "[*********************100%%**********************]  1 of 1 completed\n",
      "[*********************100%%**********************]  1 of 1 completed\n",
      "[*********************100%%**********************]  1 of 1 completed\n",
      "[*********************100%%**********************]  1 of 1 completed\n",
      "[*********************100%%**********************]  1 of 1 completed\n",
      "[*********************100%%**********************]  1 of 1 completed\n",
      "[*********************100%%**********************]  1 of 1 completed\n",
      "[*********************100%%**********************]  1 of 1 completed\n",
      "[*********************100%%**********************]  1 of 1 completed\n",
      "[*********************100%%**********************]  1 of 1 completed\n",
      "[*********************100%%**********************]  1 of 1 completed\n",
      "[*********************100%%**********************]  1 of 1 completed\n",
      "[*********************100%%**********************]  1 of 1 completed\n",
      "[*********************100%%**********************]  1 of 1 completed\n",
      "[*********************100%%**********************]  1 of 1 completed\n",
      "[*********************100%%**********************]  1 of 1 completed\n",
      "[*********************100%%**********************]  1 of 1 completed\n",
      "[*********************100%%**********************]  1 of 1 completed\n",
      "[*********************100%%**********************]  1 of 1 completed\n",
      "[*********************100%%**********************]  1 of 1 completed\n",
      "[*********************100%%**********************]  1 of 1 completed\n",
      "[*********************100%%**********************]  1 of 1 completed\n",
      "[*********************100%%**********************]  1 of 1 completed\n",
      "[*********************100%%**********************]  1 of 1 completed\n",
      "[*********************100%%**********************]  1 of 1 completed\n",
      "[*********************100%%**********************]  1 of 1 completed\n",
      "[*********************100%%**********************]  1 of 1 completed\n",
      "[*********************100%%**********************]  1 of 1 completed\n",
      "[*********************100%%**********************]  1 of 1 completed\n",
      "[*********************100%%**********************]  1 of 1 completed\n",
      "[*********************100%%**********************]  1 of 1 completed\n",
      "[*********************100%%**********************]  1 of 1 completed\n",
      "[*********************100%%**********************]  1 of 1 completed\n",
      "[*********************100%%**********************]  1 of 1 completed\n",
      "[*********************100%%**********************]  1 of 1 completed\n",
      "[*********************100%%**********************]  1 of 1 completed\n",
      "[*********************100%%**********************]  1 of 1 completed\n",
      "[*********************100%%**********************]  1 of 1 completed\n",
      "[*********************100%%**********************]  1 of 1 completed\n",
      "[*********************100%%**********************]  1 of 1 completed\n",
      "[*********************100%%**********************]  1 of 1 completed\n",
      "[*********************100%%**********************]  1 of 1 completed\n",
      "[*********************100%%**********************]  1 of 1 completed\n",
      "[*********************100%%**********************]  1 of 1 completed"
     ]
    },
    {
     "name": "stderr",
     "output_type": "stream",
     "text": [
      "\n",
      "1 Failed download:\n",
      "['MXIM']: Exception('%ticker%: No data found, symbol may be delisted')\n"
     ]
    },
    {
     "name": "stdout",
     "output_type": "stream",
     "text": [
      "\n",
      "[*********************100%%**********************]  1 of 1 completed\n",
      "[*********************100%%**********************]  1 of 1 completed\n",
      "[*********************100%%**********************]  1 of 1 completed\n",
      "[*********************100%%**********************]  1 of 1 completed\n",
      "[*********************100%%**********************]  1 of 1 completed\n",
      "[*********************100%%**********************]  1 of 1 completed\n",
      "[*********************100%%**********************]  1 of 1 completed"
     ]
    },
    {
     "name": "stderr",
     "output_type": "stream",
     "text": [
      "\n",
      "1 Failed download:\n",
      "['NLOK']: Exception('%ticker%: No data found, symbol may be delisted')\n"
     ]
    },
    {
     "name": "stdout",
     "output_type": "stream",
     "text": [
      "\n",
      "[*********************100%%**********************]  1 of 1 completed"
     ]
    },
    {
     "name": "stderr",
     "output_type": "stream",
     "text": [
      "\n",
      "1 Failed download:\n",
      "['NLSN']: Exception('%ticker%: No data found, symbol may be delisted')\n"
     ]
    },
    {
     "name": "stdout",
     "output_type": "stream",
     "text": [
      "\n",
      "[*********************100%%**********************]  1 of 1 completed\n",
      "[*********************100%%**********************]  1 of 1 completed\n",
      "[*********************100%%**********************]  1 of 1 completed\n",
      "[*********************100%%**********************]  1 of 1 completed\n",
      "[*********************100%%**********************]  1 of 1 completed\n",
      "[*********************100%%**********************]  1 of 1 completed\n",
      "[*********************100%%**********************]  1 of 1 completed\n",
      "[*********************100%%**********************]  1 of 1 completed\n",
      "[*********************100%%**********************]  1 of 1 completed\n",
      "[*********************100%%**********************]  1 of 1 completed\n",
      "[*********************100%%**********************]  1 of 1 completed\n",
      "[*********************100%%**********************]  1 of 1 completed\n",
      "[*********************100%%**********************]  1 of 1 completed\n",
      "[*********************100%%**********************]  1 of 1 completed\n",
      "[*********************100%%**********************]  1 of 1 completed\n",
      "[*********************100%%**********************]  1 of 1 completed\n",
      "[*********************100%%**********************]  1 of 1 completed\n",
      "[*********************100%%**********************]  1 of 1 completed\n",
      "[*********************100%%**********************]  1 of 1 completed\n",
      "[*********************100%%**********************]  1 of 1 completed\n",
      "[*********************100%%**********************]  1 of 1 completed\n",
      "[*********************100%%**********************]  1 of 1 completed\n",
      "[*********************100%%**********************]  1 of 1 completed\n",
      "[*********************100%%**********************]  1 of 1 completed"
     ]
    },
    {
     "name": "stderr",
     "output_type": "stream",
     "text": [
      "\n",
      "1 Failed download:\n",
      "['PBCT']: Exception('%ticker%: No data found, symbol may be delisted')\n"
     ]
    },
    {
     "name": "stdout",
     "output_type": "stream",
     "text": [
      "\n",
      "[*********************100%%**********************]  1 of 1 completed\n",
      "[*********************100%%**********************]  1 of 1 completed\n",
      "[*********************100%%**********************]  1 of 1 completed\n",
      "[*********************100%%**********************]  1 of 1 completed\n",
      "[*********************100%%**********************]  1 of 1 completed\n",
      "[*********************100%%**********************]  1 of 1 completed\n",
      "[*********************100%%**********************]  1 of 1 completed\n",
      "[*********************100%%**********************]  1 of 1 completed\n",
      "[*********************100%%**********************]  1 of 1 completed\n",
      "[*********************100%%**********************]  1 of 1 completed\n",
      "[*********************100%%**********************]  1 of 1 completed\n",
      "[*********************100%%**********************]  1 of 1 completed\n",
      "[*********************100%%**********************]  1 of 1 completed"
     ]
    },
    {
     "name": "stderr",
     "output_type": "stream",
     "text": [
      "\n",
      "1 Failed download:\n",
      "['PKI']: Exception('%ticker%: No data found, symbol may be delisted')\n"
     ]
    },
    {
     "name": "stdout",
     "output_type": "stream",
     "text": [
      "\n",
      "[*********************100%%**********************]  1 of 1 completed\n",
      "[*********************100%%**********************]  1 of 1 completed\n",
      "[*********************100%%**********************]  1 of 1 completed\n",
      "[*********************100%%**********************]  1 of 1 completed\n",
      "[*********************100%%**********************]  1 of 1 completed\n",
      "[*********************100%%**********************]  1 of 1 completed\n",
      "[*********************100%%**********************]  1 of 1 completed\n",
      "[*********************100%%**********************]  1 of 1 completed\n",
      "[*********************100%%**********************]  1 of 1 completed\n",
      "[*********************100%%**********************]  1 of 1 completed\n",
      "[*********************100%%**********************]  1 of 1 completed\n",
      "[*********************100%%**********************]  1 of 1 completed\n",
      "[*********************100%%**********************]  1 of 1 completed\n",
      "[*********************100%%**********************]  1 of 1 completed\n",
      "[*********************100%%**********************]  1 of 1 completed\n",
      "[*********************100%%**********************]  1 of 1 completed\n",
      "[*********************100%%**********************]  1 of 1 completed\n",
      "[*********************100%%**********************]  1 of 1 completed\n",
      "[*********************100%%**********************]  1 of 1 completed\n",
      "[*********************100%%**********************]  1 of 1 completed"
     ]
    },
    {
     "name": "stderr",
     "output_type": "stream",
     "text": [
      "\n",
      "1 Failed download:\n",
      "['RE']: Exception('%ticker%: No data found, symbol may be delisted')\n"
     ]
    },
    {
     "name": "stdout",
     "output_type": "stream",
     "text": [
      "\n",
      "[*********************100%%**********************]  1 of 1 completed\n",
      "[*********************100%%**********************]  1 of 1 completed\n",
      "[*********************100%%**********************]  1 of 1 completed\n",
      "[*********************100%%**********************]  1 of 1 completed\n",
      "[*********************100%%**********************]  1 of 1 completed\n",
      "[*********************100%%**********************]  1 of 1 completed\n",
      "[*********************100%%**********************]  1 of 1 completed\n",
      "[*********************100%%**********************]  1 of 1 completed\n",
      "[*********************100%%**********************]  1 of 1 completed\n",
      "[*********************100%%**********************]  1 of 1 completed\n",
      "[*********************100%%**********************]  1 of 1 completed\n",
      "[*********************100%%**********************]  1 of 1 completed\n",
      "[*********************100%%**********************]  1 of 1 completed\n",
      "[*********************100%%**********************]  1 of 1 completed\n",
      "[*********************100%%**********************]  1 of 1 completed\n",
      "[*********************100%%**********************]  1 of 1 completed\n",
      "[*********************100%%**********************]  1 of 1 completed\n",
      "[*********************100%%**********************]  1 of 1 completed\n",
      "[*********************100%%**********************]  1 of 1 completed"
     ]
    },
    {
     "name": "stderr",
     "output_type": "stream",
     "text": [
      "\n",
      "1 Failed download:\n",
      "['SIVB']: Exception('%ticker%: No data found, symbol may be delisted')\n"
     ]
    },
    {
     "name": "stdout",
     "output_type": "stream",
     "text": [
      "\n",
      "[*********************100%%**********************]  1 of 1 completed\n",
      "[*********************100%%**********************]  1 of 1 completed\n",
      "[*********************100%%**********************]  1 of 1 completed\n",
      "[*********************100%%**********************]  1 of 1 completed\n",
      "[*********************100%%**********************]  1 of 1 completed\n",
      "[*********************100%%**********************]  1 of 1 completed\n",
      "[*********************100%%**********************]  1 of 1 completed\n",
      "[*********************100%%**********************]  1 of 1 completed\n",
      "[*********************100%%**********************]  1 of 1 completed\n",
      "[*********************100%%**********************]  1 of 1 completed\n",
      "[*********************100%%**********************]  1 of 1 completed\n",
      "[*********************100%%**********************]  1 of 1 completed\n",
      "[*********************100%%**********************]  1 of 1 completed\n",
      "[*********************100%%**********************]  1 of 1 completed\n",
      "[*********************100%%**********************]  1 of 1 completed\n",
      "[*********************100%%**********************]  1 of 1 completed\n",
      "[*********************100%%**********************]  1 of 1 completed\n",
      "[*********************100%%**********************]  1 of 1 completed\n",
      "[*********************100%%**********************]  1 of 1 completed\n",
      "[*********************100%%**********************]  1 of 1 completed\n",
      "[*********************100%%**********************]  1 of 1 completed\n",
      "[*********************100%%**********************]  1 of 1 completed\n",
      "[*********************100%%**********************]  1 of 1 completed\n",
      "[*********************100%%**********************]  1 of 1 completed\n",
      "[*********************100%%**********************]  1 of 1 completed\n",
      "[*********************100%%**********************]  1 of 1 completed\n",
      "[*********************100%%**********************]  1 of 1 completed\n",
      "[*********************100%%**********************]  1 of 1 completed\n",
      "[*********************100%%**********************]  1 of 1 completed"
     ]
    },
    {
     "name": "stderr",
     "output_type": "stream",
     "text": [
      "\n",
      "1 Failed download:\n",
      "['TIF']: Exception('%ticker%: No data found, symbol may be delisted')\n"
     ]
    },
    {
     "name": "stdout",
     "output_type": "stream",
     "text": [
      "\n",
      "[*********************100%%**********************]  1 of 1 completed\n",
      "[*********************100%%**********************]  1 of 1 completed\n",
      "[*********************100%%**********************]  1 of 1 completed\n",
      "[*********************100%%**********************]  1 of 1 completed\n",
      "[*********************100%%**********************]  1 of 1 completed\n",
      "[*********************100%%**********************]  1 of 1 completed\n",
      "[*********************100%%**********************]  1 of 1 completed\n",
      "[*********************100%%**********************]  1 of 1 completed\n",
      "[*********************100%%**********************]  1 of 1 completed\n",
      "[*********************100%%**********************]  1 of 1 completed\n",
      "[*********************100%%**********************]  1 of 1 completed\n",
      "[*********************100%%**********************]  1 of 1 completed"
     ]
    },
    {
     "name": "stderr",
     "output_type": "stream",
     "text": [
      "\n",
      "1 Failed download:\n",
      "['TWTR']: Exception('%ticker%: No data found, symbol may be delisted')\n"
     ]
    },
    {
     "name": "stdout",
     "output_type": "stream",
     "text": [
      "\n",
      "[*********************100%%**********************]  1 of 1 completed\n",
      "[*********************100%%**********************]  1 of 1 completed\n",
      "[*********************100%%**********************]  1 of 1 completed\n",
      "[*********************100%%**********************]  1 of 1 completed\n",
      "[*********************100%%**********************]  1 of 1 completed\n",
      "[*********************100%%**********************]  1 of 1 completed\n",
      "[*********************100%%**********************]  1 of 1 completed\n",
      "[*********************100%%**********************]  1 of 1 completed\n",
      "[*********************100%%**********************]  1 of 1 completed\n",
      "[*********************100%%**********************]  1 of 1 completed\n",
      "[*********************100%%**********************]  1 of 1 completed\n",
      "[*********************100%%**********************]  1 of 1 completed\n",
      "[*********************100%%**********************]  1 of 1 completed\n",
      "[*********************100%%**********************]  1 of 1 completed\n",
      "[*********************100%%**********************]  1 of 1 completed\n",
      "[*********************100%%**********************]  1 of 1 completed\n",
      "[*********************100%%**********************]  1 of 1 completed\n",
      "[*********************100%%**********************]  1 of 1 completed"
     ]
    },
    {
     "name": "stderr",
     "output_type": "stream",
     "text": [
      "\n",
      "1 Failed download:\n",
      "['VAR']: Exception('%ticker%: No data found, symbol may be delisted')\n"
     ]
    },
    {
     "name": "stdout",
     "output_type": "stream",
     "text": [
      "\n",
      "[*********************100%%**********************]  1 of 1 completed\n",
      "[*********************100%%**********************]  1 of 1 completed"
     ]
    },
    {
     "name": "stderr",
     "output_type": "stream",
     "text": [
      "\n",
      "1 Failed download:\n",
      "['VIAC']: Exception('%ticker%: No data found, symbol may be delisted')\n"
     ]
    },
    {
     "name": "stdout",
     "output_type": "stream",
     "text": [
      "\n",
      "[*********************100%%**********************]  1 of 1 completed\n",
      "[*********************100%%**********************]  1 of 1 completed\n",
      "[*********************100%%**********************]  1 of 1 completed\n",
      "[*********************100%%**********************]  1 of 1 completed\n",
      "[*********************100%%**********************]  1 of 1 completed\n",
      "[*********************100%%**********************]  1 of 1 completed\n",
      "[*********************100%%**********************]  1 of 1 completed\n",
      "[*********************100%%**********************]  1 of 1 completed\n",
      "[*********************100%%**********************]  1 of 1 completed\n",
      "[*********************100%%**********************]  1 of 1 completed\n",
      "[*********************100%%**********************]  1 of 1 completed\n",
      "[*********************100%%**********************]  1 of 1 completed\n",
      "[*********************100%%**********************]  1 of 1 completed\n",
      "[*********************100%%**********************]  1 of 1 completed\n",
      "[*********************100%%**********************]  1 of 1 completed\n",
      "[*********************100%%**********************]  1 of 1 completed\n",
      "[*********************100%%**********************]  1 of 1 completed\n",
      "[*********************100%%**********************]  1 of 1 completed"
     ]
    },
    {
     "name": "stderr",
     "output_type": "stream",
     "text": [
      "\n",
      "1 Failed download:\n",
      "['WLTW']: Exception('%ticker%: No data found, symbol may be delisted')\n"
     ]
    },
    {
     "name": "stdout",
     "output_type": "stream",
     "text": [
      "\n",
      "[*********************100%%**********************]  1 of 1 completed\n",
      "[*********************100%%**********************]  1 of 1 completed\n",
      "[*********************100%%**********************]  1 of 1 completed\n",
      "[*********************100%%**********************]  1 of 1 completed\n",
      "[*********************100%%**********************]  1 of 1 completed\n",
      "[*********************100%%**********************]  1 of 1 completed\n",
      "[*********************100%%**********************]  1 of 1 completed\n",
      "[*********************100%%**********************]  1 of 1 completed\n",
      "[*********************100%%**********************]  1 of 1 completed\n",
      "[*********************100%%**********************]  1 of 1 completed\n",
      "[*********************100%%**********************]  1 of 1 completed"
     ]
    },
    {
     "name": "stderr",
     "output_type": "stream",
     "text": [
      "\n",
      "1 Failed download:\n",
      "['XLNX']: Exception('%ticker%: No data found, symbol may be delisted')\n"
     ]
    },
    {
     "name": "stdout",
     "output_type": "stream",
     "text": [
      "\n",
      "[*********************100%%**********************]  1 of 1 completed\n",
      "[*********************100%%**********************]  1 of 1 completed\n",
      "[*********************100%%**********************]  1 of 1 completed\n",
      "[*********************100%%**********************]  1 of 1 completed\n",
      "[*********************100%%**********************]  1 of 1 completed\n",
      "[*********************100%%**********************]  1 of 1 completed\n",
      "[*********************100%%**********************]  1 of 1 completed\n",
      "[*********************100%%**********************]  1 of 1 completed\n",
      "                          Symbole        Open        High         Low  \\\n",
      "2022-10-03 09:30:00-04:00    AAPL  138.210007  141.059998  137.684998   \n",
      "2022-10-03 10:30:00-04:00    AAPL  140.910004  141.585007  140.770004   \n",
      "2022-10-03 11:30:00-04:00    AAPL  140.822296  141.259995  140.080002   \n",
      "2022-10-03 12:30:00-04:00    AAPL  140.910004  142.179993  140.808899   \n",
      "2022-10-03 13:30:00-04:00    AAPL  142.000000  142.970001  141.880005   \n",
      "\n",
      "                                Close   Adj Close      Volume  \n",
      "2022-10-03 09:30:00-04:00  140.899994  140.899994         0.0  \n",
      "2022-10-03 10:30:00-04:00  140.822205  140.822205  14648705.0  \n",
      "2022-10-03 11:30:00-04:00  140.919998  140.919998  10113895.0  \n",
      "2022-10-03 12:30:00-04:00  142.000000  142.000000  11395010.0  \n",
      "2022-10-03 13:30:00-04:00  142.884995  142.884995   9769829.0  \n"
     ]
    }
   ],
   "source": [
    "\n",
    "# Créez une liste vide pour stocker les données de chaque entreprise\n",
    "donnees_entreprises = []\n",
    "\n",
    "# Bouclez à travers chaque entreprise et extrayez les données\n",
    "for entreprise in sp500_companies:\n",
    "    try:\n",
    "        # Utilisez yfinance pour obtenir les données historiques\n",
    "        data = yf.download(entreprise, period=\"1y\", interval=\"1h\")\n",
    "        \n",
    "        # Ajoutez les données de l'entreprise à la liste\n",
    "        donnees_entreprises.append(data)\n",
    "    except Exception as e:\n",
    "        print(f\"Erreur lors de l'extraction des données pour {entreprise}: {str(e)}\")\n",
    "\n",
    "# Créez un DataFrame pandas en utilisant la liste de données\n",
    "donnees_combinees = pd.concat(donnees_entreprises, keys=sp500_companies)\n",
    "\n",
    "# Réinitialisez l'index pour avoir des indices numériques\n",
    "donnees_combinees.reset_index(level=0, inplace=True)\n",
    "\n",
    "# Renommez la colonne de l'index en 'Symbole'\n",
    "donnees_combinees.rename(columns={'level_0': 'Symbole'}, inplace=True)\n",
    "\n",
    "# Enregistrez les données dans un fichier CSV\n",
    "donnees_combinees.to_csv(\"cours_de_bourse_1_an_en_heures.csv\", index=True)\n",
    "\n",
    "# Affichez les données\n",
    "print(donnees_combinees.head())\n"
   ]
  },
  {
   "cell_type": "code",
   "execution_count": null,
   "metadata": {},
   "outputs": [],
   "source": [
    "\n",
    "# Créez une liste vide pour stocker les données de chaque entreprise\n",
    "donnees_entreprises = []\n",
    "\n",
    "# Bouclez à travers chaque entreprise et extrayez les données\n",
    "for entreprise in sp500_companies:\n",
    "    try:\n",
    "        # Utilisez yfinance pour obtenir les données historiques\n",
    "        data = yf.download(entreprise, period=\"7y\", interval=\"1m\")\n",
    "        \n",
    "        # Ajoutez les données de l'entreprise à la liste\n",
    "        donnees_entreprises.append(data)\n",
    "    except Exception as e:\n",
    "        print(f\"Erreur lors de l'extraction des données pour {entreprise}: {str(e)}\")\n",
    "\n",
    "# Créez un DataFrame pandas en utilisant la liste de données\n",
    "donnees_combinees = pd.concat(donnees_entreprises, keys=sp500_companies)\n",
    "\n",
    "# Réinitialisez l'index pour avoir des indices numériques\n",
    "donnees_combinees.reset_index(level=0, inplace=True)\n",
    "\n",
    "# Renommez la colonne de l'index en 'Symbole'\n",
    "donnees_combinees.rename(columns={'level_0': 'Symbole'}, inplace=True)\n",
    "\n",
    "# Enregistrez les données dans un fichier CSV\n",
    "donnees_combinees.to_csv(\"7_days_in_min_Stock_Market.csv\", index=True)\n",
    "\n",
    "# Affichez les données\n",
    "print(donnees_combinees.head())\n"
   ]
  },
  {
   "cell_type": "code",
   "execution_count": 2,
   "metadata": {},
   "outputs": [
    {
     "ename": "NameError",
     "evalue": "name 'donnees_combinees' is not defined",
     "output_type": "error",
     "traceback": [
      "\u001b[1;31m---------------------------------------------------------------------------\u001b[0m",
      "\u001b[1;31mNameError\u001b[0m                                 Traceback (most recent call last)",
      "\u001b[1;32m~\\AppData\\Local\\Temp\\ipykernel_5848\\4114448437.py\u001b[0m in \u001b[0;36m<module>\u001b[1;34m\u001b[0m\n\u001b[1;32m----> 1\u001b[1;33m \u001b[0mdonnees_combinees\u001b[0m\u001b[1;33m[\u001b[0m\u001b[0mdonnees_combinees\u001b[0m\u001b[1;33m.\u001b[0m\u001b[0mSymbole\u001b[0m\u001b[1;33m==\u001b[0m\u001b[1;34m\"MSFT\"\u001b[0m\u001b[1;33m]\u001b[0m\u001b[1;33m.\u001b[0m\u001b[0mshape\u001b[0m\u001b[1;33m\u001b[0m\u001b[1;33m\u001b[0m\u001b[0m\n\u001b[0m\u001b[0;32m      2\u001b[0m \u001b[0mdonnees_combinees\u001b[0m\u001b[1;33m[\u001b[0m\u001b[0mdonnees_combinees\u001b[0m\u001b[1;33m.\u001b[0m\u001b[0mSymbole\u001b[0m\u001b[1;33m==\u001b[0m\u001b[1;34m\"AAPL\"\u001b[0m\u001b[1;33m]\u001b[0m\u001b[1;33m.\u001b[0m\u001b[0mshape\u001b[0m\u001b[1;33m\u001b[0m\u001b[1;33m\u001b[0m\u001b[0m\n\u001b[0;32m      3\u001b[0m \u001b[0mn_total\u001b[0m\u001b[1;33m=\u001b[0m\u001b[1;36m2726\u001b[0m\u001b[1;33m\u001b[0m\u001b[1;33m\u001b[0m\u001b[0m\n\u001b[0;32m      4\u001b[0m \u001b[0mdonnees_combinees\u001b[0m\u001b[1;33m.\u001b[0m\u001b[0mshape\u001b[0m\u001b[1;33m[\u001b[0m\u001b[1;36m0\u001b[0m\u001b[1;33m]\u001b[0m\u001b[1;33m//\u001b[0m\u001b[0mn_total\u001b[0m\u001b[1;33m\u001b[0m\u001b[1;33m\u001b[0m\u001b[0m\n",
      "\u001b[1;31mNameError\u001b[0m: name 'donnees_combinees' is not defined"
     ]
    }
   ],
   "source": [
    "donnees_combinees[donnees_combinees.Symbole==\"MSFT\"].shape\n",
    "donnees_combinees[donnees_combinees.Symbole==\"AAPL\"].shape\n",
    "n_total=2726\n",
    "donnees_combinees.shape[0]//n_total"
   ]
  }
 ],
 "metadata": {
  "kernelspec": {
   "display_name": "base",
   "language": "python",
   "name": "python3"
  },
  "language_info": {
   "codemirror_mode": {
    "name": "ipython",
    "version": 3
   },
   "file_extension": ".py",
   "mimetype": "text/x-python",
   "name": "python",
   "nbconvert_exporter": "python",
   "pygments_lexer": "ipython3",
   "version": "3.9.13"
  },
  "orig_nbformat": 4
 },
 "nbformat": 4,
 "nbformat_minor": 2
}
